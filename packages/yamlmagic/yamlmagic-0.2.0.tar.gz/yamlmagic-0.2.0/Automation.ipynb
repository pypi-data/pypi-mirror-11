{
 "cells": [
  {
   "cell_type": "markdown",
   "metadata": {},
   "source": [
    "## Automation\n",
    "Nothing too fancy here."
   ]
  },
  {
   "cell_type": "markdown",
   "metadata": {},
   "source": [
    "### Run tests"
   ]
  },
  {
   "cell_type": "code",
   "execution_count": 10,
   "metadata": {
    "collapsed": false
   },
   "outputs": [
    {
     "name": "stdout",
     "output_type": "stream",
     "text": [
      "running test\n",
      "running egg_info\n",
      "writing dependency_links to yamlmagic.egg-info/dependency_links.txt\n",
      "writing top-level names to yamlmagic.egg-info/top_level.txt\n",
      "writing yamlmagic.egg-info/PKG-INFO\n",
      "reading manifest file 'yamlmagic.egg-info/SOURCES.txt'\n",
      "reading manifest template 'MANIFEST.in'\n",
      "warning: no files found matching '*.md'\n",
      "warning: no files found matching '*.ipynb' under directory 'tests/'\n",
      "writing manifest file 'yamlmagic.egg-info/SOURCES.txt'\n",
      "running build_ext\n",
      "nose.config: INFO: Ignoring files matching ['^\\\\.', '^_', '^setup\\\\.py$']\n",
      "nose.plugins.nosebook: INFO: considering /home/weg/Documents/projects/yamlmagic/Automation.ipynb\n",
      "nose.plugins.nosebook: INFO: considering /home/weg/Documents/projects/yamlmagic/LICENSE\n",
      "nose.plugins.nosebook: INFO: considering /home/weg/Documents/projects/yamlmagic/MANIFEST.in\n",
      "nose.plugins.nosebook: INFO: considering /home/weg/Documents/projects/yamlmagic/README.ipynb\n",
      "nose.plugins.nosebook: INFO: considering /home/weg/Documents/projects/yamlmagic/README.rst\n",
      "nose.plugins.nosebook: INFO: considering /home/weg/Documents/projects/yamlmagic/requirements-dev.txt\n",
      "nose.plugins.nosebook: INFO: considering /home/weg/Documents/projects/yamlmagic/requirements.txt\n",
      "nose.plugins.nosebook: INFO: considering /home/weg/Documents/projects/yamlmagic/setup.cfg\n",
      "nose.plugins.nosebook: INFO: considering /home/weg/Documents/projects/yamlmagic/yamlmagic.py\n",
      "nose.plugins.nosebook: INFO: considering /home/weg/Documents/projects/yamlmagic/tests/Loader.ipynb\n",
      "/home/weg/Documents/projects/yamlmagic/tests/Loader.ipynb#0 ... ok\n",
      "/home/weg/Documents/projects/yamlmagic/tests/Loader.ipynb#1 ... ok\n",
      "/home/weg/Documents/projects/yamlmagic/tests/Loader.ipynb#2 ... ok\n",
      "/home/weg/Documents/projects/yamlmagic/tests/Loader.ipynb#3 ... ok\n",
      "/home/weg/Documents/projects/yamlmagic/tests/Loader.ipynb#4 ... ok\n",
      "nose.plugins.nosebook: INFO: considering /home/weg/Documents/projects/yamlmagic/tests/Simple.ipynb\n",
      "/home/weg/Documents/projects/yamlmagic/tests/Simple.ipynb#0 ... ok\n",
      "/home/weg/Documents/projects/yamlmagic/tests/Simple.ipynb#1 ... ok\n",
      "/home/weg/Documents/projects/yamlmagic/tests/Simple.ipynb#2 ... ok\n",
      "/home/weg/Documents/projects/yamlmagic/tests/Simple.ipynb#3 ... ok\n",
      "/home/weg/Documents/projects/yamlmagic/tests/Simple.ipynb#4 ... ok\n",
      "/home/weg/Documents/projects/yamlmagic/tests/Simple.ipynb#5 ... ok\n",
      "\n",
      "----------------------------------------------------------------------\n",
      "Ran 11 tests in 1.317s\n",
      "\n",
      "OK\n"
     ]
    }
   ],
   "source": [
    "!python setup.py test"
   ]
  },
  {
   "cell_type": "markdown",
   "metadata": {},
   "source": [
    "### Check code style"
   ]
  },
  {
   "cell_type": "code",
   "execution_count": 11,
   "metadata": {
    "collapsed": false
   },
   "outputs": [],
   "source": [
    "!flake8"
   ]
  },
  {
   "cell_type": "markdown",
   "metadata": {},
   "source": [
    "### Generate `README.md` from `README.ipynb`"
   ]
  },
  {
   "cell_type": "code",
   "execution_count": 5,
   "metadata": {
    "collapsed": false
   },
   "outputs": [
    {
     "name": "stdout",
     "output_type": "stream",
     "text": [
      "[NbConvertApp] Converting notebook README.ipynb to rst\n",
      "[NbConvertApp] Writing 3000 bytes to README.rst\n"
     ]
    }
   ],
   "source": [
    "!ipython nbconvert README.ipynb --to=rst"
   ]
  },
  {
   "cell_type": "markdown",
   "metadata": {},
   "source": [
    "## Test Release for PyPi"
   ]
  },
  {
   "cell_type": "code",
   "execution_count": null,
   "metadata": {
    "collapsed": false
   },
   "outputs": [],
   "source": [
    "!python setup.py register -r pypitest\n",
    "!python setup.py sdist\n",
    "!python setup.py bdist_wheel\n",
    "!python setup.py sdist upload -r pypitest\n",
    "!python setup.py bdist_wheel upload -r pypitest"
   ]
  },
  {
   "cell_type": "markdown",
   "metadata": {},
   "source": [
    "# Cut a real release for PyPi"
   ]
  },
  {
   "cell_type": "code",
   "execution_count": 14,
   "metadata": {
    "collapsed": false
   },
   "outputs": [
    {
     "name": "stdout",
     "output_type": "stream",
     "text": [
      "running register\n",
      "running egg_info\n",
      "writing dependency_links to yamlmagic.egg-info/dependency_links.txt\n",
      "writing top-level names to yamlmagic.egg-info/top_level.txt\n",
      "writing yamlmagic.egg-info/PKG-INFO\n",
      "reading manifest file 'yamlmagic.egg-info/SOURCES.txt'\n",
      "reading manifest template 'MANIFEST.in'\n",
      "warning: no files found matching '*.ipynb' under directory 'tests/'\n",
      "writing manifest file 'yamlmagic.egg-info/SOURCES.txt'\n",
      "running check\n",
      "Registering yamlmagic to https://pypi.python.org/pypi\n",
      "Server response (200): OK\n",
      "running sdist\n",
      "running egg_info\n",
      "writing top-level names to yamlmagic.egg-info/top_level.txt\n",
      "writing dependency_links to yamlmagic.egg-info/dependency_links.txt\n",
      "writing yamlmagic.egg-info/PKG-INFO\n",
      "reading manifest file 'yamlmagic.egg-info/SOURCES.txt'\n",
      "reading manifest template 'MANIFEST.in'\n",
      "warning: no files found matching '*.ipynb' under directory 'tests/'\n",
      "writing manifest file 'yamlmagic.egg-info/SOURCES.txt'\n",
      "warning: sdist: standard file not found: should have one of README, README.rst, README.txt\n",
      "\n",
      "running check\n",
      "creating yamlmagic-0.1.0\n",
      "creating yamlmagic-0.1.0/yamlmagic.egg-info\n",
      "making hard links in yamlmagic-0.1.0...\n",
      "hard linking Automation.ipynb -> yamlmagic-0.1.0\n",
      "hard linking LICENSE -> yamlmagic-0.1.0\n",
      "hard linking MANIFEST.in -> yamlmagic-0.1.0\n",
      "hard linking README.ipynb -> yamlmagic-0.1.0\n",
      "hard linking README.md -> yamlmagic-0.1.0\n",
      "hard linking setup.cfg -> yamlmagic-0.1.0\n",
      "hard linking setup.py -> yamlmagic-0.1.0\n",
      "hard linking yamlmagic.py -> yamlmagic-0.1.0\n",
      "hard linking yamlmagic.egg-info/PKG-INFO -> yamlmagic-0.1.0/yamlmagic.egg-info\n",
      "hard linking yamlmagic.egg-info/SOURCES.txt -> yamlmagic-0.1.0/yamlmagic.egg-info\n",
      "hard linking yamlmagic.egg-info/dependency_links.txt -> yamlmagic-0.1.0/yamlmagic.egg-info\n",
      "hard linking yamlmagic.egg-info/top_level.txt -> yamlmagic-0.1.0/yamlmagic.egg-info\n",
      "copying setup.cfg -> yamlmagic-0.1.0\n",
      "Writing yamlmagic-0.1.0/setup.cfg\n",
      "Creating tar archive\n",
      "removing 'yamlmagic-0.1.0' (and everything under it)\n",
      "running bdist_wheel\n",
      "running build\n",
      "running build_py\n",
      "installing to build/bdist.linux-x86_64/wheel\n",
      "running install\n",
      "running install_lib\n",
      "creating build/bdist.linux-x86_64/wheel\n",
      "copying build/lib/yamlmagic.py -> build/bdist.linux-x86_64/wheel\n",
      "running install_egg_info\n",
      "running egg_info\n",
      "writing dependency_links to yamlmagic.egg-info/dependency_links.txt\n",
      "writing top-level names to yamlmagic.egg-info/top_level.txt\n",
      "writing yamlmagic.egg-info/PKG-INFO\n",
      "reading manifest file 'yamlmagic.egg-info/SOURCES.txt'\n",
      "reading manifest template 'MANIFEST.in'\n",
      "warning: no files found matching '*.ipynb' under directory 'tests/'\n",
      "writing manifest file 'yamlmagic.egg-info/SOURCES.txt'\n",
      "Copying yamlmagic.egg-info to build/bdist.linux-x86_64/wheel/yamlmagic-0.1.0-py3.4.egg-info\n",
      "running install_scripts\n",
      "creating build/bdist.linux-x86_64/wheel/yamlmagic-0.1.0.dist-info/WHEEL\n",
      "running sdist\n",
      "running egg_info\n",
      "writing dependency_links to yamlmagic.egg-info/dependency_links.txt\n",
      "writing top-level names to yamlmagic.egg-info/top_level.txt\n",
      "writing yamlmagic.egg-info/PKG-INFO\n",
      "reading manifest file 'yamlmagic.egg-info/SOURCES.txt'\n",
      "reading manifest template 'MANIFEST.in'\n",
      "warning: no files found matching '*.ipynb' under directory 'tests/'\n",
      "writing manifest file 'yamlmagic.egg-info/SOURCES.txt'\n",
      "warning: sdist: standard file not found: should have one of README, README.rst, README.txt\n",
      "\n",
      "running check\n",
      "creating yamlmagic-0.1.0\n",
      "creating yamlmagic-0.1.0/yamlmagic.egg-info\n",
      "making hard links in yamlmagic-0.1.0...\n",
      "hard linking Automation.ipynb -> yamlmagic-0.1.0\n",
      "hard linking LICENSE -> yamlmagic-0.1.0\n",
      "hard linking MANIFEST.in -> yamlmagic-0.1.0\n",
      "hard linking README.ipynb -> yamlmagic-0.1.0\n",
      "hard linking README.md -> yamlmagic-0.1.0\n",
      "hard linking setup.cfg -> yamlmagic-0.1.0\n",
      "hard linking setup.py -> yamlmagic-0.1.0\n",
      "hard linking yamlmagic.py -> yamlmagic-0.1.0\n",
      "hard linking yamlmagic.egg-info/PKG-INFO -> yamlmagic-0.1.0/yamlmagic.egg-info\n",
      "hard linking yamlmagic.egg-info/SOURCES.txt -> yamlmagic-0.1.0/yamlmagic.egg-info\n",
      "hard linking yamlmagic.egg-info/dependency_links.txt -> yamlmagic-0.1.0/yamlmagic.egg-info\n",
      "hard linking yamlmagic.egg-info/top_level.txt -> yamlmagic-0.1.0/yamlmagic.egg-info\n",
      "copying setup.cfg -> yamlmagic-0.1.0\n",
      "Writing yamlmagic-0.1.0/setup.cfg\n",
      "Creating tar archive\n",
      "removing 'yamlmagic-0.1.0' (and everything under it)\n",
      "running upload\n",
      "Submitting dist/yamlmagic-0.1.0.tar.gz to https://pypi.python.org/pypi\n",
      "Server response (200): OK\n",
      "running bdist_wheel\n",
      "running build\n",
      "running build_py\n",
      "installing to build/bdist.linux-x86_64/wheel\n",
      "running install\n",
      "running install_lib\n",
      "creating build/bdist.linux-x86_64/wheel\n",
      "copying build/lib/yamlmagic.py -> build/bdist.linux-x86_64/wheel\n",
      "running install_egg_info\n",
      "running egg_info\n",
      "writing dependency_links to yamlmagic.egg-info/dependency_links.txt\n",
      "writing yamlmagic.egg-info/PKG-INFO\n",
      "writing top-level names to yamlmagic.egg-info/top_level.txt\n",
      "reading manifest file 'yamlmagic.egg-info/SOURCES.txt'\n",
      "reading manifest template 'MANIFEST.in'\n",
      "warning: no files found matching '*.ipynb' under directory 'tests/'\n",
      "writing manifest file 'yamlmagic.egg-info/SOURCES.txt'\n",
      "Copying yamlmagic.egg-info to build/bdist.linux-x86_64/wheel/yamlmagic-0.1.0-py3.4.egg-info\n",
      "running install_scripts\n",
      "creating build/bdist.linux-x86_64/wheel/yamlmagic-0.1.0.dist-info/WHEEL\n",
      "running upload\n",
      "Submitting /home/weg/Documents/projects/yamlmagic/dist/yamlmagic-0.1.0-py2.py3-none-any.whl to https://pypi.python.org/pypi\n",
      "Server response (200): OK\n"
     ]
    }
   ],
   "source": [
    "!python setup.py register -r pypi\n",
    "!python setup.py sdist\n",
    "!python setup.py bdist_wheel\n",
    "!python setup.py sdist upload -r pypi\n",
    "!python setup.py bdist_wheel upload -r pypi"
   ]
  },
  {
   "cell_type": "code",
   "execution_count": null,
   "metadata": {
    "collapsed": true
   },
   "outputs": [],
   "source": []
  }
 ],
 "metadata": {
  "kernelspec": {
   "display_name": "Python 3",
   "language": "python",
   "name": "python3"
  },
  "language_info": {
   "codemirror_mode": {
    "name": "ipython",
    "version": 3
   },
   "file_extension": ".py",
   "mimetype": "text/x-python",
   "name": "python",
   "nbconvert_exporter": "python",
   "pygments_lexer": "ipython3",
   "version": "3.4.2"
  }
 },
 "nbformat": 4,
 "nbformat_minor": 0
}
