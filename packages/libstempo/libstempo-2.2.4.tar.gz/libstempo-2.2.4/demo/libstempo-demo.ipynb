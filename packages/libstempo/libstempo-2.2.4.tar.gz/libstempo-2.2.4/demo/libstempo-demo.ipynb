{
 "cells": [
  {
   "cell_type": "markdown",
   "metadata": {},
   "source": [
    "## libstempo tutorial: basic functionality"
   ]
  },
  {
   "cell_type": "markdown",
   "metadata": {},
   "source": [
    "#### Michele Vallisneri, vallis@vallis.org; latest revision: 2014/12/12 for v2 API"
   ]
  },
  {
   "cell_type": "code",
   "execution_count": 1,
   "metadata": {
    "collapsed": false
   },
   "outputs": [],
   "source": [
    "%matplotlib inline\n",
    "%config InlineBackend.figure_format = 'retina'"
   ]
  },
  {
   "cell_type": "code",
   "execution_count": 2,
   "metadata": {
    "collapsed": false
   },
   "outputs": [],
   "source": [
    "from __future__ import print_function\n",
    "import sys, math, numpy as N, matplotlib.pyplot as P"
   ]
  },
  {
   "cell_type": "markdown",
   "metadata": {},
   "source": [
    "Load the libstempo Python extension. It requires a source installation of tempo2, as well as current Python and compiler, and the numpy and Cython packages.\n",
    "\n",
    "(Both Python 2.7 and 3.4 are supported; this means that in Python 2.7 all returned strings will be unicode strings, while in Python 3 all function arguments should be default unicode strings rather than `bytes`. This should work transparently, although there are limitations to what characters can be passed to tempo2; you should probably restrain yourself to ASCII."
   ]
  },
  {
   "cell_type": "code",
   "execution_count": 3,
   "metadata": {
    "collapsed": false
   },
   "outputs": [],
   "source": [
    "from libstempo.libstempo import *"
   ]
  },
  {
   "cell_type": "code",
   "execution_count": 4,
   "metadata": {
    "collapsed": false
   },
   "outputs": [],
   "source": [
    "import libstempo as T\n",
    "\n",
    "T.data = T.__path__[0] + '/data/' # example files"
   ]
  },
  {
   "cell_type": "code",
   "execution_count": 5,
   "metadata": {
    "collapsed": false
   },
   "outputs": [
    {
     "name": "stdout",
     "output_type": "stream",
     "text": [
      "Python version   : 3.4.3\n",
      "libstempo version: 2.2.3\n",
      "Tempo2 version   : 1.100\n"
     ]
    }
   ],
   "source": [
    "print(\"Python version   :\",sys.version.split()[0])\n",
    "print(\"libstempo version:\",T.__version__)\n",
    "print(\"Tempo2 version   :\",T.libstempo.tempo2version())"
   ]
  },
  {
   "cell_type": "markdown",
   "metadata": {},
   "source": [
    "We load a single-pulsar object. Doing this will automatically run the tempo2 fit routine once."
   ]
  },
  {
   "cell_type": "code",
   "execution_count": 6,
   "metadata": {
    "collapsed": false
   },
   "outputs": [],
   "source": [
    "psr = T.tempopulsar(parfile = T.data + '/J1909-3744_NANOGrav_dfg+12.par',\n",
    "                    timfile = T.data + '/J1909-3744_NANOGrav_dfg+12.tim',units=True)"
   ]
  },
  {
   "cell_type": "markdown",
   "metadata": {},
   "source": [
    "Let's start simple: what is the name of this pulsar? (You can change it, by the way.)"
   ]
  },
  {
   "cell_type": "code",
   "execution_count": 8,
   "metadata": {
    "collapsed": false
   },
   "outputs": [
    {
     "data": {
      "text/plain": [
       "'1909-3744'"
      ]
     },
     "execution_count": 8,
     "metadata": {},
     "output_type": "execute_result"
    }
   ],
   "source": [
    "psr.name"
   ]
  },
  {
   "cell_type": "markdown",
   "metadata": {},
   "source": [
    "Next, let's look at observations: there are `psr.nobs` of them; we can get numpy arrays of the site TOAs [in MJDs] with `psr.stoas`, of the TOA measurement errors [in microseconds] with `psr.toaerrs`, and of the measurement frequencies with `psr.freqs`. These arrays are *views* of the tempo2 data, so you can write to them (but you cannot currently change the number of observations)."
   ]
  },
  {
   "cell_type": "code",
   "execution_count": 9,
   "metadata": {
    "collapsed": false
   },
   "outputs": [
    {
     "data": {
      "text/plain": [
       "1001"
      ]
     },
     "execution_count": 9,
     "metadata": {},
     "output_type": "execute_result"
    }
   ],
   "source": [
    "psr.nobs"
   ]
  },
  {
   "cell_type": "markdown",
   "metadata": {},
   "source": [
    "(When `units` are active, site TOAs are represented as dimensionless numbers since they are not in one of the recognized `astropy` time scales.)"
   ]
  },
  {
   "cell_type": "code",
   "execution_count": 11,
   "metadata": {
    "collapsed": false
   },
   "outputs": [
    {
     "data": {
      "text/plain": [
       "array([ 53292.017,  53292.048,  53355.834, ...,  54641.173,  54706.993,\n",
       "        54764.835], dtype=float128)"
      ]
     },
     "execution_count": 11,
     "metadata": {},
     "output_type": "execute_result"
    }
   ],
   "source": [
    "psr.stoas"
   ]
  },
  {
   "cell_type": "code",
   "execution_count": 12,
   "metadata": {
    "collapsed": false
   },
   "outputs": [
    {
     "data": {
      "text/latex": [
       "$[1.231,~4.668,~0.453,~\\dots, 0.158,~1.336,~0.316] \\; \\mathrm{\\mu s}$"
      ],
      "text/plain": [
       "<Quantity [ 1.231, 4.668, 0.453,...,  0.158, 1.336, 0.316] us>"
      ]
     },
     "execution_count": 12,
     "metadata": {},
     "output_type": "execute_result"
    }
   ],
   "source": [
    "psr.toaerrs"
   ]
  },
  {
   "cell_type": "code",
   "execution_count": 13,
   "metadata": {
    "collapsed": false
   },
   "outputs": [
    {
     "data": {
      "text/latex": [
       "$[1372,~1372,~1372,~\\dots, 884,~884,~884] \\; \\mathrm{MHz}$"
      ],
      "text/plain": [
       "<Quantity [ 1372., 1372., 1372.,...,   884.,  884.,  884.] MHz>"
      ]
     },
     "execution_count": 13,
     "metadata": {},
     "output_type": "execute_result"
    }
   ],
   "source": [
    "psr.freqs"
   ]
  },
  {
   "cell_type": "markdown",
   "metadata": {},
   "source": [
    "By contrast, barycentric TOAs and frequencies are computed on the basis of current pulsar parameters, so you get them by calling `psr` *methods* (with parentheses), and you get a *copy* of the current values. Writing to it has no effect on the tempo2 data."
   ]
  },
  {
   "cell_type": "code",
   "execution_count": 18,
   "metadata": {
    "collapsed": false
   },
   "outputs": [
    {
     "data": {
      "text/plain": [
       "<Time object: scale='tt' format='mjd' value=[ 53292.01663801  53292.04820909  53355.82916309 ...,  54641.1796227\n",
       "  54706.99748746  54764.83381846]>"
      ]
     },
     "execution_count": 18,
     "metadata": {},
     "output_type": "execute_result"
    }
   ],
   "source": [
    "psr.toas()"
   ]
  },
  {
   "cell_type": "code",
   "execution_count": 19,
   "metadata": {
    "collapsed": false
   },
   "outputs": [
    {
     "data": {
      "text/latex": [
       "$[1372.1313,~1372.1316,~1372.0435,~\\dots, 883.98293,~884.06612,~884.08004] \\; \\mathrm{MHz}$"
      ],
      "text/plain": [
       "<Quantity [ 1372.13132715, 1372.13155182, 1372.04346329,...,\n",
       "             883.9829272 ,  884.06611515,  884.08003698] MHz>"
      ]
     },
     "execution_count": 19,
     "metadata": {},
     "output_type": "execute_result"
    }
   ],
   "source": [
    "psr.ssbfreqs()"
   ]
  },
  {
   "cell_type": "markdown",
   "metadata": {},
   "source": [
    "Residuals (in seconds) are returned by residuals(). The method takes a few options... I'll let its docstring help describe them. libstempo is fully documented in this way (try `help(T.tempopulsar)`). "
   ]
  },
  {
   "cell_type": "code",
   "execution_count": 14,
   "metadata": {
    "collapsed": false
   },
   "outputs": [
    {
     "name": "stdout",
     "output_type": "stream",
     "text": [
      "Help on built-in function residuals:\n",
      "\n",
      "residuals(...) method of libstempo.libstempo.tempopulsar instance\n",
      "    tempopulsar.residuals(updatebats=True,formresiduals=True,removemean=True)\n",
      "    \n",
      "    Returns residuals as a numpy.longdouble array (a copy of current values).\n",
      "    Will update TOAs/recompute residuals if `updatebats`/`formresiduals` is True\n",
      "    (default for both). Will remove residual mean if `removemean` is True;\n",
      "    first residual if `removemean` is 'first'; weighted residual mean\n",
      "    if `removemean` is 'weighted'.\n",
      "\n"
     ]
    }
   ],
   "source": [
    "help(psr.residuals)"
   ]
  },
  {
   "cell_type": "code",
   "execution_count": 20,
   "metadata": {
    "collapsed": false
   },
   "outputs": [
    {
     "data": {
      "text/latex": [
       "$[-1.1791214 \\times 10^{-7},~7.1732111 \\times 10^{-6},~1.0669843 \\times 10^{-6},~\\dots, 4.0526495 \\times 10^{-7},~1.4199455 \\times 10^{-6},~-4.9929815 \\times 10^{-7}] \\; \\mathrm{s}$"
      ],
      "text/plain": [
       "<Quantity [-1.1791214e-07, 7.1732111e-06, 1.0669843e-06,...,\n",
       "            4.0526495e-07, 1.4199455e-06,-4.9929815e-07] s>"
      ]
     },
     "execution_count": 20,
     "metadata": {},
     "output_type": "execute_result"
    }
   ],
   "source": [
    "psr.residuals()"
   ]
  },
  {
   "cell_type": "markdown",
   "metadata": {},
   "source": [
    "We can plot TOAs vs. residuals, but we should first sort the arrays; otherwise the array follow the order in the tim file, which may not be chronological."
   ]
  },
  {
   "cell_type": "code",
   "execution_count": 41,
   "metadata": {
    "collapsed": false
   },
   "outputs": [
    {
     "data": {
      "image/png": "[encoded data removed]",
      "text/plain": [
       "<matplotlib.figure.Figure at 0x11ec4eb10>"
      ]
     },
     "metadata": {
      "image/png": {
       "height": 255,
       "width": 416
      }
     },
     "output_type": "display_data"
    }
   ],
   "source": [
    "# get sorted array of indices\n",
    "i = N.argsort(psr.toas().mjd)\n",
    "# use numpy fancy indexing to order residuals \n",
    "P.errorbar(psr.toas().mjd[i],\n",
    "           psr.residuals()[i].value,\n",
    "           yerr=1e-6*psr.toaerrs[i].value,\n",
    "           fmt='.');"
   ]
  },
  {
   "cell_type": "markdown",
   "metadata": {},
   "source": [
    "We can also see what flags have been set on the observations, and what their values are. The latter returns a numpy vector of strings. *Flags are not currently writable.*"
   ]
  },
  {
   "cell_type": "code",
   "execution_count": 42,
   "metadata": {
    "collapsed": false
   },
   "outputs": [
    {
     "data": {
      "text/plain": [
       "['fe', 'be', 'B', 'bw', 'tobs', 'pta', 'proc', 'chanid']"
      ]
     },
     "execution_count": 42,
     "metadata": {},
     "output_type": "execute_result"
    }
   ],
   "source": [
    "psr.flags()"
   ]
  },
  {
   "cell_type": "code",
   "execution_count": 43,
   "metadata": {
    "collapsed": false
   },
   "outputs": [
    {
     "data": {
      "text/plain": [
       "array(['gasp_1372', 'gasp_1372', 'gasp_1372', ..., 'gasp_884', 'gasp_884',\n",
       "       'gasp_884'], \n",
       "      dtype='|S32')"
      ]
     },
     "execution_count": 43,
     "metadata": {},
     "output_type": "execute_result"
    }
   ],
   "source": [
    "psr.flagvals('chanid')"
   ]
  },
  {
   "cell_type": "markdown",
   "metadata": {},
   "source": [
    "In fact, there's a commodity routine in `libstempo.plot` to plot residuals, taking flags into account."
   ]
  },
  {
   "cell_type": "code",
   "execution_count": 44,
   "metadata": {
    "collapsed": false
   },
   "outputs": [
    {
     "ename": "TypeError",
     "evalue": "Only dimensionless scalar quantities can be converted to Python scalars",
     "output_type": "error",
     "traceback": [
      "\u001b[0;31m---------------------------------------------------------------------------\u001b[0m",
      "\u001b[0;31mTypeError\u001b[0m                                 Traceback (most recent call last)",
      "\u001b[0;32m<ipython-input-44-cfb903740476>\u001b[0m in \u001b[0;36m<module>\u001b[0;34m()\u001b[0m\n\u001b[1;32m      1\u001b[0m \u001b[0;32mimport\u001b[0m \u001b[0mlibstempo\u001b[0m\u001b[0;34m.\u001b[0m\u001b[0mplot\u001b[0m \u001b[0;32mas\u001b[0m \u001b[0mLP\u001b[0m\u001b[0;34m\u001b[0m\u001b[0m\n\u001b[1;32m      2\u001b[0m \u001b[0;34m\u001b[0m\u001b[0m\n\u001b[0;32m----> 3\u001b[0;31m \u001b[0mLP\u001b[0m\u001b[0;34m.\u001b[0m\u001b[0mplotres\u001b[0m\u001b[0;34m(\u001b[0m\u001b[0mpsr\u001b[0m\u001b[0;34m,\u001b[0m\u001b[0mgroup\u001b[0m\u001b[0;34m=\u001b[0m\u001b[0;34m'B'\u001b[0m\u001b[0;34m)\u001b[0m\u001b[0;34m\u001b[0m\u001b[0m\n\u001b[0m",
      "\u001b[0;32m/Applications/anaconda/lib/python2.7/site-packages/libstempo-2.2.3-py2.7-macosx-10.5-x86_64.egg/libstempo/plot.pyc\u001b[0m in \u001b[0;36mplotres\u001b[0;34m(psr, deleted, group)\u001b[0m\n\u001b[1;32m     14\u001b[0m         \u001b[0;32mprint\u001b[0m\u001b[0;34m(\u001b[0m\u001b[0;34m\"Plotting {0}/{1} nondeleted points.\"\u001b[0m\u001b[0;34m.\u001b[0m\u001b[0mformat\u001b[0m\u001b[0;34m(\u001b[0m\u001b[0mlen\u001b[0m\u001b[0;34m(\u001b[0m\u001b[0mres\u001b[0m\u001b[0;34m)\u001b[0m\u001b[0;34m,\u001b[0m\u001b[0mpsr\u001b[0m\u001b[0;34m.\u001b[0m\u001b[0mnobs\u001b[0m\u001b[0;34m)\u001b[0m\u001b[0;34m)\u001b[0m\u001b[0;34m\u001b[0m\u001b[0m\n\u001b[1;32m     15\u001b[0m \u001b[0;34m\u001b[0m\u001b[0m\n\u001b[0;32m---> 16\u001b[0;31m     \u001b[0mmeanres\u001b[0m \u001b[0;34m=\u001b[0m \u001b[0mmath\u001b[0m\u001b[0;34m.\u001b[0m\u001b[0msqrt\u001b[0m\u001b[0;34m(\u001b[0m\u001b[0mN\u001b[0m\u001b[0;34m.\u001b[0m\u001b[0mmean\u001b[0m\u001b[0;34m(\u001b[0m\u001b[0mres\u001b[0m\u001b[0;34m**\u001b[0m\u001b[0;36m2\u001b[0m\u001b[0;34m)\u001b[0m\u001b[0;34m)\u001b[0m \u001b[0;34m/\u001b[0m \u001b[0;36m1e-6\u001b[0m\u001b[0;34m\u001b[0m\u001b[0m\n\u001b[0m\u001b[1;32m     17\u001b[0m \u001b[0;34m\u001b[0m\u001b[0m\n\u001b[1;32m     18\u001b[0m     \u001b[0;32mif\u001b[0m \u001b[0mgroup\u001b[0m \u001b[0;32mis\u001b[0m \u001b[0mNone\u001b[0m\u001b[0;34m:\u001b[0m\u001b[0;34m\u001b[0m\u001b[0m\n",
      "\u001b[0;32m/Applications/anaconda/lib/python2.7/site-packages/astropy/units/quantity.pyc\u001b[0m in \u001b[0;36m__float__\u001b[0;34m(self)\u001b[0m\n\u001b[1;32m    888\u001b[0m             \u001b[0;32mreturn\u001b[0m \u001b[0mfloat\u001b[0m\u001b[0;34m(\u001b[0m\u001b[0mself\u001b[0m\u001b[0;34m.\u001b[0m\u001b[0mto\u001b[0m\u001b[0;34m(\u001b[0m\u001b[0mdimensionless_unscaled\u001b[0m\u001b[0;34m)\u001b[0m\u001b[0;34m.\u001b[0m\u001b[0mvalue\u001b[0m\u001b[0;34m)\u001b[0m\u001b[0;34m\u001b[0m\u001b[0m\n\u001b[1;32m    889\u001b[0m         \u001b[0;32mexcept\u001b[0m \u001b[0;34m(\u001b[0m\u001b[0mUnitsError\u001b[0m\u001b[0;34m,\u001b[0m \u001b[0mTypeError\u001b[0m\u001b[0;34m)\u001b[0m\u001b[0;34m:\u001b[0m\u001b[0;34m\u001b[0m\u001b[0m\n\u001b[0;32m--> 890\u001b[0;31m             raise TypeError('Only dimensionless scalar quantities can be '\n\u001b[0m\u001b[1;32m    891\u001b[0m                             'converted to Python scalars')\n\u001b[1;32m    892\u001b[0m \u001b[0;34m\u001b[0m\u001b[0m\n",
      "\u001b[0;31mTypeError\u001b[0m: Only dimensionless scalar quantities can be converted to Python scalars"
     ]
    }
   ],
   "source": [
    "import libstempo.plot as LP\n",
    "\n",
    "LP.plotres(psr,group='B')"
   ]
  },
  {
   "cell_type": "markdown",
   "metadata": {},
   "source": [
    "Timing-model parameters can be accessed by using psr as a Python dictionary. Each parameter is a special object with properties `val`, `err` (as well as `fit`, which is true is the parameter is currently being fitted, and `set`, which is true if the parameter was assigned a value)."
   ]
  },
  {
   "cell_type": "code",
   "execution_count": 10,
   "metadata": {
    "collapsed": false
   },
   "outputs": [
    {
     "data": {
      "text/plain": [
       "(<Quantity 5.0169080674060326785 rad>,\n",
       " <Quantity 7.7537595250585651792e-10 rad>,\n",
       " True,\n",
       " True)"
      ]
     },
     "execution_count": 10,
     "metadata": {},
     "output_type": "execute_result"
    }
   ],
   "source": [
    "psr['RAJ'].val, psr['RAJ'].err, psr['RAJ'].fit, psr['RAJ'].set"
   ]
  },
  {
   "cell_type": "markdown",
   "metadata": {},
   "source": [
    "The names of all fitted parameters, of all set parameters, and of *all* parameters are returned by `psr.pars(which='fit')`. We show only the first few."
   ]
  },
  {
   "cell_type": "code",
   "execution_count": 11,
   "metadata": {
    "collapsed": false
   },
   "outputs": [
    {
     "name": "stdout",
     "output_type": "stream",
     "text": [
      "82 157 1942\n",
      "('RAJ', 'DECJ', 'F0', 'F1', 'PMRA', 'PMDEC', 'PX', 'SINI', 'PB', 'A1')\n"
     ]
    }
   ],
   "source": [
    "fitpars = psr.pars() # defaults to fitted parameters\n",
    "setpars = psr.pars(which='set')\n",
    "allpars = psr.pars(which='all')\n",
    "\n",
    "print(len(fitpars),len(setpars),len(allpars))\n",
    "print(fitpars[:10])"
   ]
  },
  {
   "cell_type": "markdown",
   "metadata": {},
   "source": [
    "The number of fitting parameters is psr.ndim."
   ]
  },
  {
   "cell_type": "code",
   "execution_count": 23,
   "metadata": {
    "collapsed": false
   },
   "outputs": [
    {
     "data": {
      "text/plain": [
       "82"
      ]
     },
     "execution_count": 23,
     "metadata": {},
     "output_type": "execute_result"
    }
   ],
   "source": [
    "psr.ndim"
   ]
  },
  {
   "cell_type": "markdown",
   "metadata": {},
   "source": [
    "Changing the parameter values results in different residuals."
   ]
  },
  {
   "cell_type": "code",
   "execution_count": 7,
   "metadata": {
    "collapsed": false
   },
   "outputs": [
    {
     "ename": "TypeError",
     "evalue": "Only dimensionless scalar quantities can be converted to Python scalars",
     "output_type": "error",
     "traceback": [
      "\u001b[0;31m---------------------------------------------------------------------------\u001b[0m",
      "\u001b[0;31mTypeError\u001b[0m                                 Traceback (most recent call last)",
      "\u001b[0;32m<ipython-input-7-d2e952adda15>\u001b[0m in \u001b[0;36m<module>\u001b[0;34m()\u001b[0m\n\u001b[1;32m      6\u001b[0m \u001b[0;32mfor\u001b[0m \u001b[0mx\u001b[0m \u001b[0;32min\u001b[0m \u001b[0mxs\u001b[0m\u001b[0;34m:\u001b[0m\u001b[0;34m\u001b[0m\u001b[0m\n\u001b[1;32m      7\u001b[0m     \u001b[0mpsr\u001b[0m\u001b[0;34m[\u001b[0m\u001b[0;34m'RAJ'\u001b[0m\u001b[0;34m]\u001b[0m\u001b[0;34m.\u001b[0m\u001b[0mval\u001b[0m \u001b[0;34m=\u001b[0m \u001b[0mx\u001b[0m\u001b[0;34m\u001b[0m\u001b[0m\n\u001b[0;32m----> 8\u001b[0;31m     \u001b[0mres\u001b[0m\u001b[0;34m.\u001b[0m\u001b[0mappend\u001b[0m\u001b[0;34m(\u001b[0m\u001b[0mpsr\u001b[0m\u001b[0;34m.\u001b[0m\u001b[0mrms\u001b[0m\u001b[0;34m(\u001b[0m\u001b[0;34m)\u001b[0m\u001b[0;34m/\u001b[0m\u001b[0;36m1e-6\u001b[0m\u001b[0;34m)\u001b[0m\u001b[0;34m\u001b[0m\u001b[0m\n\u001b[0m\u001b[1;32m      9\u001b[0m \u001b[0mpsr\u001b[0m\u001b[0;34m[\u001b[0m\u001b[0;34m'RAJ'\u001b[0m\u001b[0;34m]\u001b[0m\u001b[0;34m.\u001b[0m\u001b[0mval\u001b[0m \u001b[0;34m=\u001b[0m \u001b[0mx0\u001b[0m                       \u001b[0;31m# restore the original value\u001b[0m\u001b[0;34m\u001b[0m\u001b[0m\n\u001b[1;32m     10\u001b[0m \u001b[0;34m\u001b[0m\u001b[0m\n",
      "\u001b[0;32mlibstempo/libstempo.pyx\u001b[0m in \u001b[0;36mlibstempo.libstempo.tempopulsar.rms (libstempo/libstempo.cpp:21221)\u001b[0;34m()\u001b[0m\n",
      "\u001b[0;32m/Applications/anaconda/lib/python2.7/site-packages/astropy/units/quantity.pyc\u001b[0m in \u001b[0;36m__float__\u001b[0;34m(self)\u001b[0m\n\u001b[1;32m    888\u001b[0m             \u001b[0;32mreturn\u001b[0m \u001b[0mfloat\u001b[0m\u001b[0;34m(\u001b[0m\u001b[0mself\u001b[0m\u001b[0;34m.\u001b[0m\u001b[0mto\u001b[0m\u001b[0;34m(\u001b[0m\u001b[0mdimensionless_unscaled\u001b[0m\u001b[0;34m)\u001b[0m\u001b[0;34m.\u001b[0m\u001b[0mvalue\u001b[0m\u001b[0;34m)\u001b[0m\u001b[0;34m\u001b[0m\u001b[0m\n\u001b[1;32m    889\u001b[0m         \u001b[0;32mexcept\u001b[0m \u001b[0;34m(\u001b[0m\u001b[0mUnitsError\u001b[0m\u001b[0;34m,\u001b[0m \u001b[0mTypeError\u001b[0m\u001b[0;34m)\u001b[0m\u001b[0;34m:\u001b[0m\u001b[0;34m\u001b[0m\u001b[0m\n\u001b[0;32m--> 890\u001b[0;31m             raise TypeError('Only dimensionless scalar quantities can be '\n\u001b[0m\u001b[1;32m    891\u001b[0m                             'converted to Python scalars')\n\u001b[1;32m    892\u001b[0m \u001b[0;34m\u001b[0m\u001b[0m\n",
      "\u001b[0;31mTypeError\u001b[0m: Only dimensionless scalar quantities can be converted to Python scalars"
     ]
    }
   ],
   "source": [
    "# look +/- 3 sigmas around the current value\n",
    "x0, dx = psr['RAJ'].val, psr['RAJ'].err\n",
    "xs = x0 + dx * N.linspace(-3,3,20)         \n",
    "\n",
    "res = []\n",
    "for x in xs:\n",
    "    psr['RAJ'].val = x\n",
    "    res.append(psr.rms()/1e-6)\n",
    "psr['RAJ'].val = x0                       # restore the original value\n",
    "\n",
    "P.plot(xs,res)"
   ]
  },
  {
   "cell_type": "code",
   "execution_count": 7,
   "metadata": {
    "collapsed": false
   },
   "outputs": [
    {
     "data": {
      "text/plain": [
       "array([<Quantity 5.0169080674060326785 rad>,\n",
       "       <Quantity -0.65864032508411707312 rad>,\n",
       "       <Quantity 339.3156927586801522 Hz>,\n",
       "       <Quantity -1.6148002837260219042e-15 Hz / s>,\n",
       "       <Quantity -9.6131471013527717579 mas / yr>,\n",
       "       <Quantity -35.535142282332215051 mas / yr>,\n",
       "       <Quantity 0.089434981481806251577 mas>,\n",
       "       <Quantity 0.99887143074446215385>,\n",
       "       <Quantity 1.5334494513051029191 d>,\n",
       "       <Quantity 1.897991023852069233 lightsecond>,\n",
       "       <Quantity 53113.950587082067369 d>,\n",
       "       <Quantity -3.4172897686213263339e-08>,\n",
       "       <Quantity -2.6426180555364916833e-07>,\n",
       "       <Quantity 0.21308376259512886794 solMass>,\n",
       "       <Quantity -0.00026660259649978304921>,\n",
       "       <Quantity -0.00059065284874180338237>,\n",
       "       <Quantity -0.00075267150029576306045>,\n",
       "       <Quantity -0.00081078205801421796559>,\n",
       "       <Quantity -0.00094057688388278449972>,\n",
       "       <Quantity -0.00083853592921790342804>,\n",
       "       <Quantity -0.00081896528177834817099>,\n",
       "       <Quantity -0.00080170345026672798516>,\n",
       "       <Quantity -0.0011210356242656047023>,\n",
       "       <Quantity -0.00094068302070258838272>,\n",
       "       <Quantity -0.0011739867959074997463>,\n",
       "       <Quantity -0.001163446874096801241>,\n",
       "       <Quantity -0.0011008525479298384834>,\n",
       "       <Quantity -0.0012000652424711605309>,\n",
       "       <Quantity -0.0011689514229827239794>,\n",
       "       <Quantity -0.0011376394510456758903>,\n",
       "       <Quantity -0.0011429638074958389919>,\n",
       "       <Quantity -0.0013368887413239420278>,\n",
       "       <Quantity -0.0012626639802635974297>,\n",
       "       <Quantity -0.0012785718707937009891>,\n",
       "       <Quantity -0.0013595722715176567661>,\n",
       "       <Quantity -0.0015949745632144933123>,\n",
       "       <Quantity -0.0016173293005995523627>,\n",
       "       <Quantity -0.0015778234105281718639>,\n",
       "       <Quantity -0.0015893226233900235647>,\n",
       "       <Quantity -0.0015400322240445938122>,\n",
       "       <Quantity -0.0016037968104013106133>,\n",
       "       <Quantity -0.0016102010268098140058>,\n",
       "       <Quantity -0.0016826723208923927612>,\n",
       "       <Quantity -0.0015057864276471900037>,\n",
       "       <Quantity -0.0016631529235034278381>,\n",
       "       <Quantity 1.1689461818884e-07>, <Quantity 8.6833553747316e-08>,\n",
       "       <Quantity -3.691903160802e-08>, <Quantity -9.7574173032568e-08>,\n",
       "       <Quantity -6.4752911496679e-08>, <Quantity -7.0533943921807e-08>,\n",
       "       <Quantity -1.2493198083027e-07>, <Quantity -3.6026917916572e-08>,\n",
       "       <Quantity -2.4167891097568e-08>, <Quantity -4.6946839405981e-08>,\n",
       "       <Quantity -1.0062554197771e-07>, <Quantity -1.000305910222e-07>,\n",
       "       <Quantity -5.2537740906211e-08>, <Quantity -9.853387350061e-08>,\n",
       "       <Quantity -1.4277117785432e-07>, <Quantity 3.9627936223941e-06>,\n",
       "       <Quantity 3.8808250600427e-06>, <Quantity 3.8303053226634e-06>,\n",
       "       <Quantity 3.724073027373e-06>, <Quantity 3.7041370102185e-06>,\n",
       "       <Quantity 3.6111130855805e-06>, <Quantity 3.7363808197839e-06>,\n",
       "       <Quantity 3.7013264107374e-06>, <Quantity 3.6407492319539e-06>,\n",
       "       <Quantity 3.534324786648e-06>, <Quantity 3.5290756230543e-06>,\n",
       "       <Quantity 3.5172184111846e-06>, <Quantity 3.4712407663056e-06>,\n",
       "       <Quantity 3.2894097638622e-06>, <Quantity 2.8769200075288e-06>,\n",
       "       <Quantity 3.1986088990894e-06>, <Quantity 3.2321653420717e-06>,\n",
       "       <Quantity 3.2296297918683e-06>, <Quantity 3.0363058959722e-06>,\n",
       "       <Quantity 2.99405593586e-06>, <Quantity 2.890261885834e-06>,\n",
       "       <Quantity 3.0454926082367e-06>], dtype=object)"
      ]
     },
     "execution_count": 7,
     "metadata": {},
     "output_type": "execute_result"
    }
   ],
   "source": [
    "psr.vals()"
   ]
  },
  {
   "cell_type": "markdown",
   "metadata": {},
   "source": [
    "We can also call the tempo2 fitting routine, which will fit around the current parameter values, replacing them with their new best values. Individual parameters can be included or excluded in the fitting by setting their 'fit' field"
   ]
  },
  {
   "cell_type": "code",
   "execution_count": 8,
   "metadata": {
    "collapsed": false
   },
   "outputs": [
    {
     "data": {
      "text/plain": [
       "False"
      ]
     },
     "execution_count": 8,
     "metadata": {},
     "output_type": "execute_result"
    }
   ],
   "source": [
    "psr['DM'].fit"
   ]
  },
  {
   "cell_type": "code",
   "execution_count": 9,
   "metadata": {
    "collapsed": false
   },
   "outputs": [
    {
     "name": "stdout",
     "output_type": "stream",
     "text": [
      "10.39468 pc / cm3\n"
     ]
    }
   ],
   "source": [
    "psr['DM'].fit = True\n",
    "print(psr['DM'].val)"
   ]
  },
  {
   "cell_type": "code",
   "execution_count": 10,
   "metadata": {
    "collapsed": false
   },
   "outputs": [],
   "source": [
    "psr.fit()"
   ]
  },
  {
   "cell_type": "code",
   "execution_count": 11,
   "metadata": {
    "collapsed": false
   },
   "outputs": [
    {
     "name": "stdout",
     "output_type": "stream",
     "text": [
      "12.5078114702 pc / cm3 3.41819660798 pc / cm3\n"
     ]
    }
   ],
   "source": [
    "print(psr['DM'].val,psr['DM'].err)"
   ]
  },
  {
   "cell_type": "markdown",
   "metadata": {},
   "source": [
    "The tempo2-computed chi squared and rms is available as `psr.fitchisq`; it can also be recomputed by `psr.chisq()` (which evaluates `N.sum(psr.residuals()**2 / (1e-12 * psr.toaerrs**2))`). "
   ]
  },
  {
   "cell_type": "markdown",
   "metadata": {},
   "source": [
    "The pulsar parameters can be read in bulk by calling `psr.vals(which='fit')`, which will default to fitted parameters, but can also be given `'all'`, `'set'`, or even a list of parameter names."
   ]
  },
  {
   "cell_type": "code",
   "execution_count": 12,
   "metadata": {
    "collapsed": false
   },
   "outputs": [
    {
     "name": "stdout",
     "output_type": "stream",
     "text": [
      "[<Quantity 5.0169080673899805606 rad>\n",
      " <Quantity -0.65864032473497550129 rad> <Quantity 339.31569275867931573 Hz>\n",
      " <Quantity -1.6147937701969167847e-15 Hz / s>\n",
      " <Quantity 12.507811470162678216 pc / cm3>\n",
      " <Quantity -9.6108456556012873979 mas / yr>\n",
      " <Quantity -35.56455877732183549 mas / yr>\n",
      " <Quantity 0.11952140049470966916 mas> <Quantity 0.99879945929035872929>\n",
      " <Quantity 1.5334494513074447082 d>\n",
      " <Quantity 1.8979910297456268894 lightsecond>\n",
      " <Quantity 53113.950587079225834 d> <Quantity -4.1787076378388282255e-08>\n",
      " <Quantity -2.7312087415492985285e-07>\n",
      " <Quantity 0.2126685865670313987 solMass>\n",
      " <Quantity -0.00046597778562144276902> <Quantity -0.0013590879527967021241>\n",
      " <Quantity -0.0015749376737665024519> <Quantity -0.001585236574170599323>\n",
      " <Quantity -0.0015549368355307930281> <Quantity -0.00091965330452504990266>\n",
      " <Quantity -0.00083851044181039138104>\n",
      " <Quantity -0.00084044504440923822799> <Quantity -0.0012948886186572300068>\n",
      " <Quantity -0.0013259037001562784456> <Quantity -0.0017922897865880665604>\n",
      " <Quantity -0.001956099682358826394> <Quantity -0.0011218442249528870475>\n",
      " <Quantity -0.0013477996178653389795> <Quantity -0.0019285906879584025267>\n",
      " <Quantity -0.0019657528924759574373> <Quantity -0.0019577485696446122668>\n",
      " <Quantity -0.001845471978530790002> <Quantity -0.0013732647951096600345>\n",
      " <Quantity -0.0013149083462075251071> <Quantity -0.0015068528935748466087>\n",
      " <Quantity -0.0019486088337587999651> <Quantity -0.0021363394341138451709>\n",
      " <Quantity -0.0023018378919921632983> <Quantity -0.0024133034250714576741>\n",
      " <Quantity -0.0023474259737952257246> <Quantity -0.0022845534249535617413>\n",
      " <Quantity -0.0021289121734724880236> <Quantity -0.0018202566808869284373>\n",
      " <Quantity -0.0015300540022463952154> <Quantity -0.0016854231357380750653>\n",
      " <Quantity -2.6921639873529357e-05> <Quantity -5.375393276270022e-05>\n",
      " <Quantity -8.044771895004671e-05> <Quantity -0.00010684902924503186>\n",
      " <Quantity -0.0001329301532397939> <Quantity -0.0001588256697492975>\n",
      " <Quantity -0.00018454794597850318> <Quantity -0.0002099080249575811>\n",
      " <Quantity -0.0002351285236604445> <Quantity -0.0002601696972336277>\n",
      " <Quantity -0.00028502996510441675> <Quantity -0.00030962667849232343>\n",
      " <Quantity -0.0003339695365482551> <Quantity -0.00035820097749397604>\n",
      " <Quantity -0.00038222946024152137> <Quantity 0.009322549039067816>\n",
      " <Quantity 0.009044348346715907> <Quantity 0.008908342604380993>\n",
      " <Quantity 0.00877429541745268> <Quantity 0.008642308404797738>\n",
      " <Quantity 0.008384052422501818> <Quantity 0.008257905791592296>\n",
      " <Quantity 0.00813342379718215> <Quantity 0.0080107081546069>\n",
      " <Quantity 0.007889703206683857> <Quantity 0.007770522323461513>\n",
      " <Quantity 0.007653025131665575> <Quantity 0.0075371526467429666>\n",
      " <Quantity 0.007422771933027841> <Quantity 0.007309758247635299>\n",
      " <Quantity 0.007199045763983122> <Quantity 0.007089583591777426>\n",
      " <Quantity 0.006981595602495231> <Quantity 0.006874898714154064>\n",
      " <Quantity 0.0067698089934058745> <Quantity 0.006666087770050373>\n",
      " <Quantity 0.00656402830281345>]\n"
     ]
    }
   ],
   "source": [
    "fitvals = psr.vals()\n",
    "print(fitvals)"
   ]
  },
  {
   "cell_type": "code",
   "execution_count": 13,
   "metadata": {
    "collapsed": false
   },
   "outputs": [
    {
     "data": {
      "text/plain": [
       "array([<Quantity 5.0169080673899805606 rad>,\n",
       "       <Quantity -0.65864032473497550129 rad>,\n",
       "       <Quantity -9.6108456556012873979 mas / yr>], dtype=object)"
      ]
     },
     "execution_count": 13,
     "metadata": {},
     "output_type": "execute_result"
    }
   ],
   "source": [
    "psr.vals(which=['RAJ','DECJ','PMRA'])"
   ]
  },
  {
   "cell_type": "markdown",
   "metadata": {},
   "source": [
    "To set parameter values in bulk, you give a first argument to `vals`. Or call it with a dictionary. "
   ]
  },
  {
   "cell_type": "code",
   "execution_count": 14,
   "metadata": {
    "collapsed": false
   },
   "outputs": [
    {
     "name": "stdout",
     "output_type": "stream",
     "text": [
      "[<Quantity 5.0999999999999996447 rad> <Quantity -0.5999999999999999778 rad>\n",
      " <Quantity -9.5 mas / yr>]\n"
     ]
    }
   ],
   "source": [
    "psr.vals([5.1,-0.6],which=['RAJ','DECJ','PMRA'])\n",
    "psr.vals({'PMRA': -9.5})\n",
    "\n",
    "print(psr.vals(which=['RAJ','DECJ','PMRA']))\n",
    "\n",
    "# restore original values\n",
    "psr.vals(fitvals)"
   ]
  },
  {
   "cell_type": "markdown",
   "metadata": {},
   "source": [
    "Be careful about loss of precision; `tempopar.val` is a numpy longdouble, so you should be careful about assigning it a regular Python double. By contrast, doing arithmetics with numpy longdoubles will preserve their nature and precision."
   ]
  },
  {
   "cell_type": "markdown",
   "metadata": {},
   "source": [
    "You can access errors in a similar way with `psr.errs(...)`."
   ]
  },
  {
   "cell_type": "markdown",
   "metadata": {},
   "source": [
    "It's also possible to obtain the design matrix computed at the current parameter values, which has shape `psr.nobs * (len(psr.pars) + 1)`, since a constant offset is always included among the fitting parameters."
   ]
  },
  {
   "cell_type": "code",
   "execution_count": 15,
   "metadata": {
    "collapsed": false
   },
   "outputs": [
    {
     "ename": "ValueError",
     "evalue": "setting an array element with a sequence.",
     "output_type": "error",
     "traceback": [
      "\u001b[0;31m---------------------------------------------------------------------------\u001b[0m",
      "\u001b[0;31mValueError\u001b[0m                                Traceback (most recent call last)",
      "\u001b[0;32m<ipython-input-15-f958b09d2a8c>\u001b[0m in \u001b[0;36m<module>\u001b[0;34m()\u001b[0m\n\u001b[0;32m----> 1\u001b[0;31m \u001b[0md\u001b[0m \u001b[0;34m=\u001b[0m \u001b[0mpsr\u001b[0m\u001b[0;34m.\u001b[0m\u001b[0mdesignmatrix\u001b[0m\u001b[0;34m(\u001b[0m\u001b[0;34m)\u001b[0m\u001b[0;34m\u001b[0m\u001b[0m\n\u001b[0m",
      "\u001b[0;32mlibstempo/libstempo.pyx\u001b[0m in \u001b[0;36mlibstempo.libstempo.tempopulsar.designmatrix (libstempo/libstempo.cpp:17302)\u001b[0;34m()\u001b[0m\n",
      "\u001b[0;31mValueError\u001b[0m: setting an array element with a sequence."
     ]
    }
   ],
   "source": [
    "d = psr.designmatrix()"
   ]
  },
  {
   "cell_type": "markdown",
   "metadata": {},
   "source": [
    "These, for instance, are the derivatives with respect to RAJ and DECJ, evaluated at the TOAs."
   ]
  },
  {
   "cell_type": "code",
   "execution_count": 16,
   "metadata": {
    "collapsed": false
   },
   "outputs": [
    {
     "ename": "NameError",
     "evalue": "name 'i' is not defined",
     "output_type": "error",
     "traceback": [
      "\u001b[0;31m---------------------------------------------------------------------------\u001b[0m",
      "\u001b[0;31mNameError\u001b[0m                                 Traceback (most recent call last)",
      "\u001b[0;32m<ipython-input-16-0bb7eca80ad5>\u001b[0m in \u001b[0;36m<module>\u001b[0;34m()\u001b[0m\n\u001b[1;32m      1\u001b[0m \u001b[0;31m# we need the sorted-index array compute above\u001b[0m\u001b[0;34m\u001b[0m\u001b[0;34m\u001b[0m\u001b[0m\n\u001b[0;32m----> 2\u001b[0;31m \u001b[0mP\u001b[0m\u001b[0;34m.\u001b[0m\u001b[0mplot\u001b[0m\u001b[0;34m(\u001b[0m\u001b[0mpsr\u001b[0m\u001b[0;34m.\u001b[0m\u001b[0mtoas\u001b[0m\u001b[0;34m(\u001b[0m\u001b[0;34m)\u001b[0m\u001b[0;34m[\u001b[0m\u001b[0mi\u001b[0m\u001b[0;34m]\u001b[0m\u001b[0;34m/\u001b[0m\u001b[0;36m365.25\u001b[0m\u001b[0;34m,\u001b[0m\u001b[0md\u001b[0m\u001b[0;34m[\u001b[0m\u001b[0mi\u001b[0m\u001b[0;34m,\u001b[0m\u001b[0;36m1\u001b[0m\u001b[0;34m]\u001b[0m\u001b[0;34m,\u001b[0m\u001b[0;34m'-x'\u001b[0m\u001b[0;34m)\u001b[0m\u001b[0;34m;\u001b[0m \u001b[0mP\u001b[0m\u001b[0;34m.\u001b[0m\u001b[0mhold\u001b[0m\u001b[0;34m(\u001b[0m\u001b[0mTrue\u001b[0m\u001b[0;34m)\u001b[0m\u001b[0;34m\u001b[0m\u001b[0m\n\u001b[0m\u001b[1;32m      3\u001b[0m \u001b[0mP\u001b[0m\u001b[0;34m.\u001b[0m\u001b[0mplot\u001b[0m\u001b[0;34m(\u001b[0m\u001b[0mpsr\u001b[0m\u001b[0;34m.\u001b[0m\u001b[0mtoas\u001b[0m\u001b[0;34m(\u001b[0m\u001b[0;34m)\u001b[0m\u001b[0;34m[\u001b[0m\u001b[0mi\u001b[0m\u001b[0;34m]\u001b[0m\u001b[0;34m/\u001b[0m\u001b[0;36m365.25\u001b[0m\u001b[0;34m,\u001b[0m\u001b[0md\u001b[0m\u001b[0;34m[\u001b[0m\u001b[0mi\u001b[0m\u001b[0;34m,\u001b[0m\u001b[0;36m2\u001b[0m\u001b[0;34m]\u001b[0m\u001b[0;34m,\u001b[0m\u001b[0;34m'-x'\u001b[0m\u001b[0;34m)\u001b[0m\u001b[0;34m\u001b[0m\u001b[0m\n",
      "\u001b[0;31mNameError\u001b[0m: name 'i' is not defined"
     ]
    }
   ],
   "source": [
    "# we need the sorted-index array compute above\n",
    "P.plot(psr.toas()[i]/365.25,d[i,1],'-x'); P.hold(True)\n",
    "P.plot(psr.toas()[i]/365.25,d[i,2],'-x')"
   ]
  },
  {
   "cell_type": "markdown",
   "metadata": {},
   "source": [
    "It's easy to save the current timing-model to a new par file. Omitting the argument will overwrite the original parfile."
   ]
  },
  {
   "cell_type": "code",
   "execution_count": 34,
   "metadata": {
    "collapsed": false
   },
   "outputs": [],
   "source": [
    "psr.savepar('./foo.par')"
   ]
  },
  {
   "cell_type": "code",
   "execution_count": 35,
   "metadata": {
    "collapsed": false
   },
   "outputs": [
    {
     "name": "stdout",
     "output_type": "stream",
     "text": [
      "PSRJ           1909-3744\r\n",
      "RAJ             19:09:47.4380320         1  0.00001067127248211017   \r\n",
      "DECJ           -37:44:14.31897           1  0.00045632647959166725   \r\n",
      "F0             339.31569275867931573     1  0.00000000000381382122   \r\n",
      "F1             -1.6147937701969167847e-15 1  3.2219023837179870291e-20\r\n",
      "PEPOCH         53000                       \r\n",
      "POSEPOCH       53000                       \r\n",
      "DMEPOCH        53000                       \r\n",
      "DM             12.507811470162678216     1  3.41819660797695590304   \r\n",
      "PMRA           -9.6108456556012873979    1  0.03081020419650991327   \r\n"
     ]
    }
   ],
   "source": [
    "!head foo.par"
   ]
  },
  {
   "cell_type": "markdown",
   "metadata": {},
   "source": [
    "Same for writing tim files."
   ]
  },
  {
   "cell_type": "code",
   "execution_count": 36,
   "metadata": {
    "collapsed": false
   },
   "outputs": [],
   "source": [
    "psr.savetim('./foo.tim')"
   ]
  },
  {
   "cell_type": "code",
   "execution_count": 37,
   "metadata": {
    "collapsed": false
   },
   "outputs": [
    {
     "name": "stdout",
     "output_type": "stream",
     "text": [
      "FORMAT 1\r\n",
      "MODE 1\r\n",
      " 53292.000004.1.000.000.tsum 1372.00000000 53292.01653552588140172 1.23100 gbt -fe Rcvr1_2 -be GASP -B L -bw 4.0 -tobs 901.322 -pta NANOGrav -proc dfg+12 -chanid gasp_1372 \r\n",
      " 53292.000010.1.000.000.tsum 1372.00000000 53292.04810962983469835 4.66800 gbt -fe Rcvr1_2 -be GASP -B L -bw 4.0 -tobs 901.322 -pta NANOGrav -proc dfg+12 -chanid gasp_1372 \r\n",
      " 53355.000005.1.000.000.tsum 1372.00000000 53355.83359727578050169 0.45300 gbt -fe Rcvr1_2 -be GASP -B L -bw 4.0 -tobs 1081.587 -pta NANOGrav -proc dfg+12 -chanid gasp_1372 \r\n",
      " 53800.000018.1.000.000.tsum 1372.00000000 53800.48353665754979858 0.14800 gbt -fe Rcvr1_2 -be GASP -B L -bw 4.0 -tobs 3424.969 -pta NANOGrav -proc dfg+12 -chanid gasp_1372 \r\n",
      " 53838.000020.1.000.000.tsum 1372.00000000 53838.37506136744340068 0.54300 gbt -fe Rcvr1_2 -be GASP -B L -bw 4.0 -tobs 3064.446 -pta NANOGrav -proc dfg+12 -chanid gasp_1372 \r\n",
      " 53858.000028.1.000.000.tsum 1372.00000000 53858.31918408581089963 0.08900 gbt -fe Rcvr1_2 -be GASP -B L -bw 4.0 -tobs 1982.877 -pta NANOGrav -proc dfg+12 -chanid gasp_1372 \r\n",
      " 53889.000025.1.000.000.tsum 1372.00000000 53889.23934070044100153 0.07300 gbt -fe Rcvr1_2 -be GASP -B L -bw 4.0 -tobs 2703.923 -pta NANOGrav -proc dfg+12 -chanid gasp_1372 \r\n",
      " 53979.000023.1.000.000.tsum 1372.00000000 53979.98924810684179931 0.16500 gbt -fe Rcvr1_2 -be GASP -B L -bw 4.0 -tobs 2703.923 -pta NANOGrav -proc dfg+12 -chanid gasp_1372 \r\n"
     ]
    }
   ],
   "source": [
    "!head foo.tim"
   ]
  },
  {
   "cell_type": "markdown",
   "metadata": {},
   "source": [
    "With libstempo, it's easy to replicate some of the \"toasim\" plugin functionality. By subtracting the residuals from the site TOAs (psr.stoas, vs. the barycentered psr.toas) and refitting, we can create a \"perfect\" timing solution. (Note that 1 ns is roughly tempo2's claimed accuracy.)"
   ]
  },
  {
   "cell_type": "code",
   "execution_count": 38,
   "metadata": {
    "collapsed": false
   },
   "outputs": [
    {
     "name": "stdout",
     "output_type": "stream",
     "text": [
      "1.7908760868040159\n"
     ]
    }
   ],
   "source": [
    "print(math.sqrt(N.mean(psr.residuals()**2)) / 1e-6)"
   ]
  },
  {
   "cell_type": "code",
   "execution_count": 39,
   "metadata": {
    "collapsed": false
   },
   "outputs": [],
   "source": [
    "psr.stoas[:] -= psr.residuals() / 86400.0\n",
    "psr.fit()"
   ]
  },
  {
   "cell_type": "code",
   "execution_count": 40,
   "metadata": {
    "collapsed": false
   },
   "outputs": [
    {
     "name": "stdout",
     "output_type": "stream",
     "text": [
      "0.00020173807674486906\n"
     ]
    }
   ],
   "source": [
    "print(math.sqrt(N.mean(psr.residuals()**2)) / 1e-6)"
   ]
  },
  {
   "cell_type": "markdown",
   "metadata": {},
   "source": [
    "Then we can add, e.g., homoskedastic white measurement noise at 100 ns (remember the tempo units: days for TOAs, us for errors, s for residuals)."
   ]
  },
  {
   "cell_type": "code",
   "execution_count": 17,
   "metadata": {
    "collapsed": false
   },
   "outputs": [
    {
     "ename": "UnitConversionError",
     "evalue": "'' (dimensionless) and 'us' (time) are not convertible",
     "output_type": "error",
     "traceback": [
      "\u001b[0;31m---------------------------------------------------------------------------\u001b[0m",
      "\u001b[0;31mUnitConversionError\u001b[0m                       Traceback (most recent call last)",
      "\u001b[0;32m<ipython-input-17-50b95dd85d03>\u001b[0m in \u001b[0;36m<module>\u001b[0;34m()\u001b[0m\n\u001b[1;32m      1\u001b[0m \u001b[0mpsr\u001b[0m\u001b[0;34m.\u001b[0m\u001b[0mstoas\u001b[0m\u001b[0;34m[\u001b[0m\u001b[0;34m:\u001b[0m\u001b[0;34m]\u001b[0m \u001b[0;34m+=\u001b[0m \u001b[0;36m0.1e-6\u001b[0m \u001b[0;34m*\u001b[0m \u001b[0mN\u001b[0m\u001b[0;34m.\u001b[0m\u001b[0mrandom\u001b[0m\u001b[0;34m.\u001b[0m\u001b[0mrandn\u001b[0m\u001b[0;34m(\u001b[0m\u001b[0mpsr\u001b[0m\u001b[0;34m.\u001b[0m\u001b[0mnobs\u001b[0m\u001b[0;34m)\u001b[0m \u001b[0;34m/\u001b[0m \u001b[0;36m86400.0\u001b[0m\u001b[0;34m\u001b[0m\u001b[0m\n\u001b[0;32m----> 2\u001b[0;31m \u001b[0mpsr\u001b[0m\u001b[0;34m.\u001b[0m\u001b[0mtoaerrs\u001b[0m\u001b[0;34m[\u001b[0m\u001b[0;34m:\u001b[0m\u001b[0;34m]\u001b[0m \u001b[0;34m=\u001b[0m \u001b[0;36m0.1\u001b[0m\u001b[0;34m\u001b[0m\u001b[0m\n\u001b[0m\u001b[1;32m      3\u001b[0m \u001b[0mpsr\u001b[0m\u001b[0;34m.\u001b[0m\u001b[0mfit\u001b[0m\u001b[0;34m(\u001b[0m\u001b[0;34m)\u001b[0m\u001b[0;34m\u001b[0m\u001b[0m\n",
      "\u001b[0;32m/Applications/anaconda/lib/python2.7/site-packages/astropy/units/quantity.pyc\u001b[0m in \u001b[0;36m__setslice__\u001b[0;34m(self, i, j, value)\u001b[0m\n\u001b[1;32m    864\u001b[0m \u001b[0;34m\u001b[0m\u001b[0m\n\u001b[1;32m    865\u001b[0m     \u001b[0;32mdef\u001b[0m \u001b[0m__setslice__\u001b[0m\u001b[0;34m(\u001b[0m\u001b[0mself\u001b[0m\u001b[0;34m,\u001b[0m \u001b[0mi\u001b[0m\u001b[0;34m,\u001b[0m \u001b[0mj\u001b[0m\u001b[0;34m,\u001b[0m \u001b[0mvalue\u001b[0m\u001b[0;34m)\u001b[0m\u001b[0;34m:\u001b[0m\u001b[0;34m\u001b[0m\u001b[0m\n\u001b[0;32m--> 866\u001b[0;31m         \u001b[0mself\u001b[0m\u001b[0;34m.\u001b[0m\u001b[0mview\u001b[0m\u001b[0;34m(\u001b[0m\u001b[0mnp\u001b[0m\u001b[0;34m.\u001b[0m\u001b[0mndarray\u001b[0m\u001b[0;34m)\u001b[0m\u001b[0;34m.\u001b[0m\u001b[0m__setslice__\u001b[0m\u001b[0;34m(\u001b[0m\u001b[0mi\u001b[0m\u001b[0;34m,\u001b[0m \u001b[0mj\u001b[0m\u001b[0;34m,\u001b[0m \u001b[0mself\u001b[0m\u001b[0;34m.\u001b[0m\u001b[0m_to_own_unit\u001b[0m\u001b[0;34m(\u001b[0m\u001b[0mvalue\u001b[0m\u001b[0;34m)\u001b[0m\u001b[0;34m)\u001b[0m\u001b[0;34m\u001b[0m\u001b[0m\n\u001b[0m\u001b[1;32m    867\u001b[0m \u001b[0;34m\u001b[0m\u001b[0m\n\u001b[1;32m    868\u001b[0m     \u001b[0;31m# __contains__ is OK\u001b[0m\u001b[0;34m\u001b[0m\u001b[0;34m\u001b[0m\u001b[0m\n",
      "\u001b[0;32m/Applications/anaconda/lib/python2.7/site-packages/astropy/units/quantity.pyc\u001b[0m in \u001b[0;36m_to_own_unit\u001b[0;34m(self, value, check_precision)\u001b[0m\n\u001b[1;32m   1091\u001b[0m                     \u001b[0m_value\u001b[0m \u001b[0;34m=\u001b[0m \u001b[0mvalue\u001b[0m\u001b[0;34m\u001b[0m\u001b[0m\n\u001b[1;32m   1092\u001b[0m                 \u001b[0;32melse\u001b[0m\u001b[0;34m:\u001b[0m\u001b[0;34m\u001b[0m\u001b[0m\n\u001b[0;32m-> 1093\u001b[0;31m                     \u001b[0;32mraise\u001b[0m \u001b[0mexc\u001b[0m\u001b[0;34m\u001b[0m\u001b[0m\n\u001b[0m\u001b[1;32m   1094\u001b[0m \u001b[0;34m\u001b[0m\u001b[0m\n\u001b[1;32m   1095\u001b[0m         \u001b[0;32mif\u001b[0m \u001b[0mcheck_precision\u001b[0m\u001b[0;34m:\u001b[0m\u001b[0;34m\u001b[0m\u001b[0m\n",
      "\u001b[0;31mUnitConversionError\u001b[0m: '' (dimensionless) and 'us' (time) are not convertible"
     ]
    }
   ],
   "source": [
    "psr.stoas[:] += 0.1e-6 * N.random.randn(psr.nobs) / 86400.0\n",
    "psr.toaerrs[:] = 0.1\n",
    "psr.fit()"
   ]
  },
  {
   "cell_type": "code",
   "execution_count": 42,
   "metadata": {
    "collapsed": false
   },
   "outputs": [
    {
     "data": {
      "text/plain": [
       "<Container object of 3 artists>"
      ]
     },
     "execution_count": 42,
     "metadata": {},
     "output_type": "execute_result"
    },
    {
     "data": {
      "image/png": "[encoded data removed]",
      "text/plain": [
       "<matplotlib.figure.Figure at 0x11268ca90>"
      ]
     },
     "metadata": {
      "image/png": {
       "height": 261,
       "width": 381
      }
     },
     "output_type": "display_data"
    }
   ],
   "source": [
    "i = N.argsort(psr.toas())\n",
    "P.errorbar(psr.toas()[i],psr.residuals()[i],yerr=1e-6*psr.toaerrs[i],fmt='.')"
   ]
  }
 ],
 "metadata": {
  "kernelspec": {
   "display_name": "Python 3",
   "language": "python",
   "name": "python3"
  },
  "language_info": {
   "codemirror_mode": {
    "name": "ipython",
    "version": 3
   },
   "file_extension": ".py",
   "mimetype": "text/x-python",
   "name": "python",
   "nbconvert_exporter": "python",
   "pygments_lexer": "ipython3",
   "version": "3.4.3"
  }
 },
 "nbformat": 4,
 "nbformat_minor": 0
}
