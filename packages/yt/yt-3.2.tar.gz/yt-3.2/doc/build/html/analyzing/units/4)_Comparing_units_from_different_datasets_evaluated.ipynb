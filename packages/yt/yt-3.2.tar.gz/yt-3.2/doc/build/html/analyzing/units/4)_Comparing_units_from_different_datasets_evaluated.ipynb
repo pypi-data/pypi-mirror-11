{
 "metadata": {
  "name": "",
  "signature": "sha256:273a23e3a20b277a9e5ea7117b48cf19013c331d0893e6e9d21896e97f59aceb"
 },
 "nbformat": 3,
 "nbformat_minor": 0,
 "worksheets": [
  {
   "cells": [
    {
     "cell_type": "markdown",
     "metadata": {},
     "source": [
      "Units that refer to the internal simulation coordinate system will have different CGS conversion factors in different datasets.  Depending on how a unit system is implemented, this could add an element of uncertainty when we compare dimensional arrays instances produced by different unit systems.  Fortunately, this is not a problem for `YTArray` since all `YTArray` unit systems are defined in terms of physical CGS units.\n",
      "\n",
      "As an example, let's load up two enzo datasets from different redshifts in the same cosmology simulation."
     ]
    },
    {
     "cell_type": "code",
     "collapsed": false,
     "input": [
      "# A high redshift output from z ~ 8\n",
      "import yt\n",
      "\n",
      "ds1 = yt.load('Enzo_64/DD0002/data0002')\n",
      "print \"z = %s\" % ds1.current_redshift\n",
      "print \"Internal length units = %s\" % ds1.length_unit\n",
      "print \"Internal length units in cgs = %s\" % ds1.length_unit.in_cgs()"
     ],
     "language": "python",
     "metadata": {},
     "outputs": [
      {
       "output_type": "stream",
       "stream": "stdout",
       "text": [
        "z = 7.88437488869\n",
        "Internal length units = 128.0 Mpccm/h\n",
        "Internal length units in cgs = 6.26145538088e+25 cm\n"
       ]
      }
     ],
     "prompt_number": 1
    },
    {
     "cell_type": "code",
     "collapsed": false,
     "input": [
      "# A low redshift output from z ~ 0\n",
      "ds2 = yt.load('Enzo_64/DD0043/data0043')\n",
      "print \"z = %s\" % ds2.current_redshift\n",
      "print \"Internal length units = %s\" % ds2.length_unit\n",
      "print \"Internal length units in cgs = %s\" % ds2.length_unit.in_cgs()"
     ],
     "language": "python",
     "metadata": {},
     "outputs": [
      {
       "output_type": "stream",
       "stream": "stdout",
       "text": [
        "z = 0.00139308806408\n",
        "Internal length units = 128.0 Mpccm/h\n",
        "Internal length units in cgs = 5.55517285026e+26 cm\n"
       ]
      }
     ],
     "prompt_number": 2
    },
    {
     "cell_type": "markdown",
     "metadata": {},
     "source": [
      "Given that these are from the same simulation in comoving units, the CGS length units are different by a factor of $(1+z_1)/(1+z_2)$:"
     ]
    },
    {
     "cell_type": "code",
     "collapsed": false,
     "input": [
      "print ds2.length_unit.in_cgs()/ds1.length_unit.in_cgs() == (1+ds1.current_redshift)/(1+ds2.current_redshift)"
     ],
     "language": "python",
     "metadata": {},
     "outputs": [
      {
       "output_type": "stream",
       "stream": "stdout",
       "text": [
        "True\n"
       ]
      }
     ],
     "prompt_number": 3
    },
    {
     "cell_type": "markdown",
     "metadata": {},
     "source": [
      "It's not necessary to convert to CGS units either.  yt will automatically account for the fact that a comoving megapaersec in the first output is physically different compared to a comoving megaparsec in the second output."
     ]
    },
    {
     "cell_type": "code",
     "collapsed": false,
     "input": [
      "print ds2.length_unit/ds1.length_unit"
     ],
     "language": "python",
     "metadata": {},
     "outputs": [
      {
       "output_type": "stream",
       "stream": "stdout",
       "text": [
        "1.0 dimensionless\n"
       ]
      }
     ],
     "prompt_number": 4
    },
    {
     "cell_type": "markdown",
     "metadata": {},
     "source": [
      "Time series analysis is also straightforward.  Since dimensional arrays and quantities carry around the conversion factors to CGS with them, we can safely pickle them, share them with other processors, or combine them without worrying about differences in unit definitions.\n",
      "\n",
      "The following snippet, which iterates over a time series and saves the `length_unit` quantity to a storage dictionary. This should work correctly on one core or in a script run in parallel."
     ]
    },
    {
     "cell_type": "code",
     "collapsed": false,
     "input": [
      "import yt\n",
      "yt.enable_parallelism()\n",
      "\n",
      "ts = yt.load(\"Enzo_64/DD????/data????\")\n",
      "\n",
      "storage = {}\n",
      "\n",
      "for sto, ds in ts.piter(storage=storage):\n",
      "    sto.result_id = ds.current_time\n",
      "    sto.result = ds.length_unit\n",
      "\n",
      "if yt.is_root():\n",
      "    for t in sorted(storage.keys()):\n",
      "        print t.in_units('Gyr'), storage[t].in_units('Mpc')"
     ],
     "language": "python",
     "metadata": {},
     "outputs": [
      {
       "output_type": "stream",
       "stream": "stdout",
       "text": [
        "0.0167664307176 Gyr 1.80281690141 Mpc\n",
        "0.324776365679 Gyr 13.0043790883 Mpc\n",
        "0.632790465186 Gyr 20.2919949236 Mpc\n",
        "0.940803568482 Gyr 26.445076542 Mpc\n",
        "1.24881525805 Gyr 31.9605518362 Mpc\n",
        "1.55683051541 Gyr 37.0500484507 Mpc\n",
        "1.86484126665 Gyr 41.8289768183 Mpc\n",
        "2.17285773318 Gyr 46.3696546724 Mpc\n",
        "2.48086651046 Gyr 50.720983009 Mpc\n",
        "2.78888130026 Gyr 54.9186331093 Mpc\n",
        "3.09689744455 Gyr 58.9893457556 Mpc\n",
        "3.40490583352 Gyr 62.9539832514 Mpc\n",
        "3.71291791768 Gyr 66.8295783372 Mpc\n",
        "4.02093676514 Gyr 70.6300703627 Mpc\n",
        "4.32894776199 Gyr 74.3669557222 Mpc\n",
        "4.63695879824 Gyr 78.0503012816 Mpc\n",
        "4.94496987482 Gyr 81.6887411125 Mpc\n",
        "5.25299203478 Gyr 85.2899766589 Mpc\n",
        "5.56099516012 Gyr 88.8603737322 Mpc\n",
        "5.8690171566 Gyr 92.4063887144 Mpc\n",
        "6.17703050719 Gyr 95.9331417272 Mpc\n",
        "6.48504378164 Gyr 99.4456866575 Mpc\n",
        "6.79305631551 Gyr 102.948563922 Mpc\n",
        "7.10106856365 Gyr 106.445981256 Mpc\n",
        "7.40908162566 Gyr 109.941858471 Mpc\n",
        "7.71709473306 Gyr 113.439840386 Mpc\n",
        "8.02509788702 Gyr 116.943247317 Mpc\n",
        "8.3331205844 Gyr 120.455658794 Mpc\n",
        "8.64113174988 Gyr 123.979798364 Mpc\n",
        "8.94914457344 Gyr 127.518748585 Mpc\n",
        "9.25715828396 Gyr 131.075305447 Mpc\n",
        "9.56516272852 Gyr 134.65204334 Mpc\n",
        "9.87318529299 Gyr 138.251874869 Mpc\n",
        "10.1811955105 Gyr 141.876951001 Mpc\n",
        "10.4892073935 Gyr 145.529864687 Mpc\n",
        "10.797218724 Gyr 149.212951074 Mpc\n",
        "11.105233498 Gyr 152.928559681 Mpc\n",
        "11.4132459406 Gyr 156.678869381 Mpc\n",
        "11.7212596862 Gyr 160.466126044 Mpc\n",
        "12.0292701093 Gyr 164.292433332 Mpc\n",
        "12.337283103 Gyr 168.159989523 Mpc\n",
        "12.6452936869 Gyr 172.07082628 Mpc\n",
        "12.9533190469 Gyr 176.027232007 Mpc\n",
        "13.2613311241 Gyr 180.030891255 Mpc\n"
       ]
      }
     ],
     "prompt_number": 5
    }
   ],
   "metadata": {}
  }
 ]
}