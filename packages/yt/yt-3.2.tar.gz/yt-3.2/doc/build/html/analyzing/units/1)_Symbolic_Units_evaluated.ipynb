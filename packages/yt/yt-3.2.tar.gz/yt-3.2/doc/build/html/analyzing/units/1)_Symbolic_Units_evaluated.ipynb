{
 "metadata": {
  "name": "",
  "signature": "sha256:5d881061b9e82bd9df5d3598983c8ddc5fbec35e3bf7ae4524430dc558e27489"
 },
 "nbformat": 3,
 "nbformat_minor": 0,
 "worksheets": [
  {
   "cells": [
    {
     "cell_type": "heading",
     "level": 3,
     "metadata": {},
     "source": [
      "Dimensional analysis"
     ]
    },
    {
     "cell_type": "markdown",
     "metadata": {},
     "source": [
      "The fastest way to get into the unit system is to explore the quantities that live in the `yt.units` namespace:"
     ]
    },
    {
     "cell_type": "code",
     "collapsed": false,
     "input": [
      "from yt.units import meter, gram, kilogram, second, joule\n",
      "print kilogram*meter**2/second**2 == joule\n",
      "print kilogram*meter**2/second**2"
     ],
     "language": "python",
     "metadata": {},
     "outputs": [
      {
       "output_type": "stream",
       "stream": "stdout",
       "text": [
        "True\n",
        "1.0 kg*m**2/s**2\n"
       ]
      }
     ],
     "prompt_number": 1
    },
    {
     "cell_type": "code",
     "collapsed": false,
     "input": [
      "from yt.units import m, kg, s, W\n",
      "kg*m**2/s**3 == W"
     ],
     "language": "python",
     "metadata": {},
     "outputs": [
      {
       "output_type": "pyout",
       "prompt_number": 2,
       "text": [
        "True"
       ]
      }
     ],
     "prompt_number": 2
    },
    {
     "cell_type": "code",
     "collapsed": false,
     "input": [
      "from yt.units import kilometer\n",
      "three_kilometers = 3*kilometer\n",
      "print three_kilometers"
     ],
     "language": "python",
     "metadata": {},
     "outputs": [
      {
       "output_type": "stream",
       "stream": "stdout",
       "text": [
        "3.0 km\n"
       ]
      }
     ],
     "prompt_number": 3
    },
    {
     "cell_type": "code",
     "collapsed": false,
     "input": [
      "from yt.units import gram, kilogram\n",
      "print gram+kilogram\n",
      "\n",
      "print kilogram+gram\n",
      "\n",
      "print kilogram/gram"
     ],
     "language": "python",
     "metadata": {},
     "outputs": [
      {
       "output_type": "stream",
       "stream": "stdout",
       "text": [
        "1001.0 g\n",
        "1.001 kg\n",
        "1.0 kg/g\n"
       ]
      }
     ],
     "prompt_number": 4
    },
    {
     "cell_type": "markdown",
     "metadata": {},
     "source": [
      "These unit symbols are all instances of a new class we've added to yt 3.0, `YTQuantity`. `YTQuantity` is useful for storing a single data point."
     ]
    },
    {
     "cell_type": "code",
     "collapsed": false,
     "input": [
      "type(kilogram)"
     ],
     "language": "python",
     "metadata": {},
     "outputs": [
      {
       "output_type": "pyout",
       "prompt_number": 5,
       "text": [
        "yt.units.yt_array.YTQuantity"
       ]
      }
     ],
     "prompt_number": 5
    },
    {
     "cell_type": "markdown",
     "metadata": {},
     "source": [
      "We also provide `YTArray`, which can store arrays of quantities:"
     ]
    },
    {
     "cell_type": "code",
     "collapsed": false,
     "input": [
      "arr = [3,4,5]*kilogram\n",
      "\n",
      "print arr\n",
      "\n",
      "print type(arr)"
     ],
     "language": "python",
     "metadata": {},
     "outputs": [
      {
       "output_type": "stream",
       "stream": "stdout",
       "text": [
        "[ 3.  4.  5.] kg\n",
        "<class 'yt.units.yt_array.YTArray'>\n"
       ]
      }
     ],
     "prompt_number": 6
    },
    {
     "cell_type": "heading",
     "level": 3,
     "metadata": {},
     "source": [
      "Creating arrays and quantities"
     ]
    },
    {
     "cell_type": "markdown",
     "metadata": {},
     "source": [
      "Most people will interact with the new unit system using `YTArray` and `YTQuantity`.  These are both subclasses of numpy's fast array type, `ndarray`, and can be used interchangably with other NumPy arrays. These new classes make use of the unit system to append unit metadata to the underlying `ndarray`.  `YTArray` is intended to store array data, while `YTQuantitity` is intended to store scalars in a particular unit system.\n",
      "\n",
      "There are two ways to create arrays and quantities. The first is to explicitly create it by calling the class constructor and supplying a unit string:"
     ]
    },
    {
     "cell_type": "code",
     "collapsed": false,
     "input": [
      "from yt.units.yt_array import YTArray\n",
      "\n",
      "sample_array = YTArray([1,2,3], 'g/cm**3')\n",
      "\n",
      "print sample_array"
     ],
     "language": "python",
     "metadata": {},
     "outputs": [
      {
       "output_type": "stream",
       "stream": "stdout",
       "text": [
        "[ 1.  2.  3.] g/cm**3\n"
       ]
      }
     ],
     "prompt_number": 7
    },
    {
     "cell_type": "markdown",
     "metadata": {},
     "source": [
      "The unit string can be an arbitrary combination of metric unit names.  Just a few examples:"
     ]
    },
    {
     "cell_type": "code",
     "collapsed": false,
     "input": [
      "from yt.units.yt_array import YTQuantity\n",
      "from yt.utilities.physical_constants import kboltz\n",
      "from numpy.random import random\n",
      "import numpy as np\n",
      "\n",
      "print \"Length:\"\n",
      "print YTQuantity(random(), 'm')\n",
      "print YTQuantity(random(), 'cm')\n",
      "print YTQuantity(random(), 'Mpc')\n",
      "print YTQuantity(random(), 'AU')\n",
      "print ''\n",
      "\n",
      "print \"Time:\"\n",
      "print YTQuantity(random(), 's')\n",
      "print YTQuantity(random(), 'min')\n",
      "print YTQuantity(random(), 'hr')\n",
      "print YTQuantity(random(), 'day')\n",
      "print YTQuantity(random(), 'yr')\n",
      "print ''\n",
      "\n",
      "print \"Mass:\"\n",
      "print YTQuantity(random(), 'g')\n",
      "print YTQuantity(random(), 'kg')\n",
      "print YTQuantity(random(), 'Msun')\n",
      "print ''\n",
      "\n",
      "print \"Energy:\"\n",
      "print YTQuantity(random(), 'erg')\n",
      "print YTQuantity(random(), 'g*cm**2/s**2')\n",
      "print YTQuantity(random(), 'eV')\n",
      "print YTQuantity(random(), 'J')\n",
      "print ''\n",
      "\n",
      "print \"Temperature:\"\n",
      "print YTQuantity(random(), 'K')\n",
      "print (YTQuantity(random(), 'eV')/kboltz).in_cgs()"
     ],
     "language": "python",
     "metadata": {},
     "outputs": [
      {
       "output_type": "stream",
       "stream": "stdout",
       "text": [
        "Length:\n",
        "0.288158333987 m\n",
        "0.575249244832 cm\n",
        "0.748235324354 Mpc\n",
        "0.259287391401 AU\n",
        "\n",
        "Time:\n",
        "0.98621656609 s\n",
        "0.439833868233 min\n",
        "0.472926050201 hr\n",
        "0.340179359806 day\n",
        "0.104118930068 yr\n",
        "\n",
        "Mass:\n",
        "0.339116043463 g\n",
        "0.00484518343403 kg\n",
        "0.18257957821 Msun\n",
        "\n",
        "Energy:\n",
        "0.18293899862 erg\n",
        "0.130069958843 cm**2*g/s**2\n",
        "0.775201861579 eV\n",
        "0.129200666702 J\n",
        "\n",
        "Temperature:\n",
        "0.0299861961996 K\n",
        "10360.5340639 K\n"
       ]
      }
     ],
     "prompt_number": 8
    },
    {
     "cell_type": "markdown",
     "metadata": {},
     "source": [
      "Dimensional arrays and quantities can also be created by multiplication with another array or quantity:"
     ]
    },
    {
     "cell_type": "code",
     "collapsed": false,
     "input": [
      "from yt.units import kilometer\n",
      "print kilometer"
     ],
     "language": "python",
     "metadata": {},
     "outputs": [
      {
       "output_type": "stream",
       "stream": "stdout",
       "text": [
        "1.0 km\n"
       ]
      }
     ],
     "prompt_number": 9
    },
    {
     "cell_type": "code",
     "collapsed": false,
     "input": [
      "three_kilometers = 3*kilometer\n",
      "print three_kilometers"
     ],
     "language": "python",
     "metadata": {},
     "outputs": [
      {
       "output_type": "stream",
       "stream": "stdout",
       "text": [
        "3.0 km\n"
       ]
      }
     ],
     "prompt_number": 10
    },
    {
     "cell_type": "markdown",
     "metadata": {},
     "source": [
      "When working with a YTArray with complicated units, you can use `unit_array` and `unit_quantity` to conveniently apply units to data:"
     ]
    },
    {
     "cell_type": "code",
     "collapsed": false,
     "input": [
      "test_array = YTArray(np.random.random(20), 'erg/s')\n",
      "\n",
      "print test_array"
     ],
     "language": "python",
     "metadata": {},
     "outputs": [
      {
       "output_type": "stream",
       "stream": "stdout",
       "text": [
        "[ 0.83374427  0.85058499  0.70561151  0.06117139  0.76772644  0.6844016\n",
        "  0.73801167  0.60474007  0.8235241   0.09573164  0.01223354  0.79902793\n",
        "  0.76726818  0.65507489  0.16181892  0.0295999   0.86447794  0.44679358\n",
        "  0.65739303  0.7264154 ] erg/s\n"
       ]
      }
     ],
     "prompt_number": 11
    },
    {
     "cell_type": "markdown",
     "metadata": {},
     "source": [
      "`unit_quantity` returns a `YTQuantity` with a value of 1.0 and the same units as the array it is a attached to."
     ]
    },
    {
     "cell_type": "code",
     "collapsed": false,
     "input": [
      "print test_array.unit_quantity"
     ],
     "language": "python",
     "metadata": {},
     "outputs": [
      {
       "output_type": "stream",
       "stream": "stdout",
       "text": [
        "1.0 erg/s\n"
       ]
      }
     ],
     "prompt_number": 12
    },
    {
     "cell_type": "markdown",
     "metadata": {},
     "source": [
      "`unit_array` returns a `YTArray` with the same units and shape as the array it is a attached to and with all values set to 1.0."
     ]
    },
    {
     "cell_type": "code",
     "collapsed": false,
     "input": [
      "print test_array.unit_array"
     ],
     "language": "python",
     "metadata": {},
     "outputs": [
      {
       "output_type": "stream",
       "stream": "stdout",
       "text": [
        "[ 1.  1.  1.  1.  1.  1.  1.  1.  1.  1.  1.  1.  1.  1.  1.  1.  1.  1.\n",
        "  1.  1.] erg/s\n"
       ]
      }
     ],
     "prompt_number": 13
    },
    {
     "cell_type": "markdown",
     "metadata": {},
     "source": [
      "These are useful when doing arithmetic:"
     ]
    },
    {
     "cell_type": "code",
     "collapsed": false,
     "input": [
      "print test_array + 1.0*test_array.unit_quantity"
     ],
     "language": "python",
     "metadata": {},
     "outputs": [
      {
       "output_type": "stream",
       "stream": "stdout",
       "text": [
        "[ 1.83374427  1.85058499  1.70561151  1.06117139  1.76772644  1.6844016\n",
        "  1.73801167  1.60474007  1.8235241   1.09573164  1.01223354  1.79902793\n",
        "  1.76726818  1.65507489  1.16181892  1.0295999   1.86447794  1.44679358\n",
        "  1.65739303  1.7264154 ] erg/s\n"
       ]
      }
     ],
     "prompt_number": 14
    },
    {
     "cell_type": "code",
     "collapsed": false,
     "input": [
      "print test_array + np.arange(20)*test_array.unit_array"
     ],
     "language": "python",
     "metadata": {},
     "outputs": [
      {
       "output_type": "stream",
       "stream": "stdout",
       "text": [
        "[  0.83374427   1.85058499   2.70561151   3.06117139   4.76772644\n",
        "   5.6844016    6.73801167   7.60474007   8.8235241    9.09573164\n",
        "  10.01223354  11.79902793  12.76726818  13.65507489  14.16181892\n",
        "  15.0295999   16.86447794  17.44679358  18.65739303  19.7264154 ] erg/s\n"
       ]
      }
     ],
     "prompt_number": 15
    },
    {
     "cell_type": "markdown",
     "metadata": {},
     "source": [
      "For convenience, `unit_quantity` is also available via `uq` and `unit_array` is available via `ua`.  You can use these arrays to create dummy arrays with the same units as another array - this is sometimes easier than manually creating a new array or quantity."
     ]
    },
    {
     "cell_type": "code",
     "collapsed": false,
     "input": [
      "print test_array.uq\n",
      "\n",
      "print test_array.unit_quantity == test_array.uq"
     ],
     "language": "python",
     "metadata": {},
     "outputs": [
      {
       "output_type": "stream",
       "stream": "stdout",
       "text": [
        "1.0 erg/s\n",
        "True\n"
       ]
      }
     ],
     "prompt_number": 16
    },
    {
     "cell_type": "code",
     "collapsed": false,
     "input": [
      "from numpy import array_equal\n",
      "\n",
      "print test_array.ua\n",
      "\n",
      "print array_equal(test_array.ua, test_array.unit_array)"
     ],
     "language": "python",
     "metadata": {},
     "outputs": [
      {
       "output_type": "stream",
       "stream": "stdout",
       "text": [
        "[ 1.  1.  1.  1.  1.  1.  1.  1.  1.  1.  1.  1.  1.  1.  1.  1.  1.  1.\n",
        "  1.  1.] erg/s\n",
        "True\n"
       ]
      }
     ],
     "prompt_number": 17
    },
    {
     "cell_type": "markdown",
     "metadata": {},
     "source": [
      "Unit metadata is encoded in the `units` attribute that hangs off of `YTArray` or `YTQuantity` instances:"
     ]
    },
    {
     "cell_type": "code",
     "collapsed": false,
     "input": [
      "from yt.units import kilometer, erg\n",
      "\n",
      "print \"kilometer's units:\", kilometer.units\n",
      "print \"kilometer's dimensions:\", kilometer.units.dimensions\n",
      "\n",
      "print ''\n",
      "\n",
      "print \"erg's units:\", erg.units\n",
      "print \"erg's dimensions: \", erg.units.dimensions"
     ],
     "language": "python",
     "metadata": {},
     "outputs": [
      {
       "output_type": "stream",
       "stream": "stdout",
       "text": [
        "kilometer's units: km\n",
        "kilometer's dimensions: (length)\n",
        "\n",
        "erg's units: erg\n",
        "erg's dimensions:  (length)**2*(mass)/(time)**2\n"
       ]
      }
     ],
     "prompt_number": 18
    },
    {
     "cell_type": "heading",
     "level": 3,
     "metadata": {},
     "source": [
      "Arithmetic with `YTQuantity` and `YTArray`"
     ]
    },
    {
     "cell_type": "markdown",
     "metadata": {},
     "source": [
      "Of course it wouldn't be very useful if all we could do is create data with units.  The real power of the new unit system is that we can add, subtract, mutliply, and divide using quantities and dimensional arrays:"
     ]
    },
    {
     "cell_type": "code",
     "collapsed": false,
     "input": [
      "a = YTQuantity(3, 'cm')\n",
      "b = YTQuantity(3, 'm')\n",
      "\n",
      "print a+b\n",
      "print b+a\n",
      "print ''\n",
      "\n",
      "print (a+b).in_units('ft')"
     ],
     "language": "python",
     "metadata": {},
     "outputs": [
      {
       "output_type": "stream",
       "stream": "stdout",
       "text": [
        "303.0 cm\n",
        "3.03 m\n",
        "\n",
        "9.94094488189 ft\n"
       ]
      }
     ],
     "prompt_number": 19
    },
    {
     "cell_type": "code",
     "collapsed": false,
     "input": [
      "a = YTQuantity(42, 'mm')\n",
      "b = YTQuantity(1, 's')\n",
      "\n",
      "print a/b\n",
      "print (a/b).in_cgs()\n",
      "print (a/b).in_mks()\n",
      "print (a/b).in_units('km/s')\n",
      "print ''\n",
      "\n",
      "print a*b\n",
      "print (a*b).in_cgs()\n",
      "print (a*b).in_mks()"
     ],
     "language": "python",
     "metadata": {},
     "outputs": [
      {
       "output_type": "stream",
       "stream": "stdout",
       "text": [
        "42.0 mm/s\n",
        "4.2 cm/s\n",
        "0.042 m/s\n",
        "4.2e-05 km/s\n",
        "\n",
        "42.0 mm*s\n",
        "4.2 cm*s\n",
        "0.042 m*s\n"
       ]
      }
     ],
     "prompt_number": 20
    },
    {
     "cell_type": "code",
     "collapsed": false,
     "input": [
      "m = YTQuantity(35, 'g')\n",
      "a = YTQuantity(9.8, 'm/s**2')\n",
      "\n",
      "print m*a\n",
      "print (m*a).in_units('dyne')"
     ],
     "language": "python",
     "metadata": {},
     "outputs": [
      {
       "output_type": "stream",
       "stream": "stdout",
       "text": [
        "343.0 g*m/s**2\n",
        "34300.0 dyne\n"
       ]
      }
     ],
     "prompt_number": 21
    },
    {
     "cell_type": "code",
     "collapsed": false,
     "input": [
      "from yt.utilities.physical_constants import G, kboltz\n",
      "\n",
      "print \"Newton's constant: \", G\n",
      "print \"Newton's constant in MKS: \", G.in_mks(), \"\\n\"\n",
      "\n",
      "print \"Boltzmann constant: \", kboltz\n",
      "print \"Boltzmann constant in MKS: \", kboltz.in_mks()"
     ],
     "language": "python",
     "metadata": {},
     "outputs": [
      {
       "output_type": "stream",
       "stream": "stdout",
       "text": [
        "Newton's constant:  6.67384e-08 cm**3/(g*s**2)\n",
        "Newton's constant in MKS:  6.67384e-11 m**3/(kg*s**2) \n",
        "\n",
        "Boltzmann constant:  1.3806488e-16 erg/K\n",
        "Boltzmann constant in MKS:  1.3806488e-23 kg*m**2/(K*s**2)\n"
       ]
      }
     ],
     "prompt_number": 22
    },
    {
     "cell_type": "code",
     "collapsed": false,
     "input": [
      "rho = YTQuantity(1, 'g/cm**3')\n",
      "t_ff = (G*rho)**(-0.5)\n",
      "\n",
      "print t_ff"
     ],
     "language": "python",
     "metadata": {},
     "outputs": [
      {
       "output_type": "stream",
       "stream": "stdout",
       "text": [
        "3870.90136118 s\n"
       ]
      }
     ],
     "prompt_number": 23
    },
    {
     "cell_type": "markdown",
     "metadata": {},
     "source": [
      "An exception is raised if we try to do a unit operation that doesn't make any sense:"
     ]
    },
    {
     "cell_type": "code",
     "collapsed": false,
     "input": [
      "from yt.utilities.exceptions import YTUnitOperationError\n",
      "\n",
      "a = YTQuantity(3, 'm')\n",
      "b = YTQuantity(5, 'erg')\n",
      "\n",
      "try:\n",
      "    print a+b\n",
      "except YTUnitOperationError as e:\n",
      "    print e"
     ],
     "language": "python",
     "metadata": {},
     "outputs": [
      {
       "output_type": "stream",
       "stream": "stdout",
       "text": [
        "The addition operator for YTArrays with units (m) and (erg) is not well defined.\n"
       ]
      }
     ],
     "prompt_number": 24
    },
    {
     "cell_type": "markdown",
     "metadata": {},
     "source": [
      "A plain `ndarray` or a `YTArray` created with empty units is treated as a dimensionless quantity and can be used in situations where unit consistency allows it to be used: "
     ]
    },
    {
     "cell_type": "code",
     "collapsed": false,
     "input": [
      "a = YTArray([1.,2.,3.], 'm')\n",
      "b = np.array([2.,2.,2.])\n",
      "\n",
      "print \"a:   \", a\n",
      "print \"b:   \", b\n",
      "print \"a*b: \", a*b"
     ],
     "language": "python",
     "metadata": {},
     "outputs": [
      {
       "output_type": "stream",
       "stream": "stdout",
       "text": [
        "a:    [ 1.  2.  3.] m\n",
        "b:    [ 2.  2.  2.]\n",
        "a*b:  [ 2.  4.  6.] m\n"
       ]
      }
     ],
     "prompt_number": 25
    },
    {
     "cell_type": "code",
     "collapsed": false,
     "input": [
      "c = YTArray([2,2,2])\n",
      "\n",
      "print \"c:    \", c\n",
      "print \"a*c:  \", a*c"
     ],
     "language": "python",
     "metadata": {},
     "outputs": [
      {
       "output_type": "stream",
       "stream": "stdout",
       "text": [
        "c:     [ 2.  2.  2.] dimensionless\n",
        "a*c:   [ 2.  4.  6.] m\n"
       ]
      }
     ],
     "prompt_number": 26
    }
   ],
   "metadata": {}
  }
 ]
}