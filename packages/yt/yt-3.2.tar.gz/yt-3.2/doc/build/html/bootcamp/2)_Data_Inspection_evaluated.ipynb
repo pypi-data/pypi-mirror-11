{
 "metadata": {
  "name": "",
  "signature": "sha256:a8fe78715c1f3900c37c675d84320fe65f0ba8734abba60fd12e74d957e5d8ee"
 },
 "nbformat": 3,
 "nbformat_minor": 0,
 "worksheets": [
  {
   "cells": [
    {
     "cell_type": "markdown",
     "metadata": {},
     "source": [
      "# Starting Out and Loading Data\n",
      "\n",
      "We're going to get started by loading up yt.  This next command brings all of the libraries into memory and sets up our environment."
     ]
    },
    {
     "cell_type": "code",
     "collapsed": false,
     "input": [
      "import yt"
     ],
     "language": "python",
     "metadata": {},
     "outputs": [],
     "prompt_number": 1
    },
    {
     "cell_type": "markdown",
     "metadata": {},
     "source": [
      "Now that we've loaded yt, we can load up some data.  Let's load the `IsolatedGalaxy` dataset."
     ]
    },
    {
     "cell_type": "code",
     "collapsed": false,
     "input": [
      "ds = yt.load(\"IsolatedGalaxy/galaxy0030/galaxy0030\")"
     ],
     "language": "python",
     "metadata": {},
     "outputs": [],
     "prompt_number": 2
    },
    {
     "cell_type": "markdown",
     "metadata": {},
     "source": [
      "## Fields and Facts\n",
      "\n",
      "When you call the `load` function, yt tries to do very little -- this is designed to be a fast operation, just setting up some information about the simulation.  Now, the first time you access the \"index\" it will read and load the mesh and then determine where data is placed in the physical domain and on disk.  Once it knows that, yt can tell you some statistics about the simulation:"
     ]
    },
    {
     "cell_type": "code",
     "collapsed": false,
     "input": [
      "ds.print_stats()"
     ],
     "language": "python",
     "metadata": {},
     "outputs": [
      {
       "output_type": "stream",
       "stream": "stdout",
       "text": [
        "level\t# grids\t       # cells\t     # cells^3\n",
        "----------------------------------------------\n",
        "  0\t     1\t         32768\t            32\n",
        "  1\t     8\t         34304\t            33\n",
        "  2\t     8\t        181888\t            57\n",
        "  3\t     8\t        646968\t            87\n",
        "  4\t    15\t        947856\t            99\n",
        "  5\t    51\t        874128\t            96\n",
        "  6\t    18\t        786328\t            93\n",
        "  7\t    28\t        446776\t            77\n",
        "  8\t    36\t        209400\t            60\n",
        "----------------------------------------------\n",
        "   \t   173\t       4160416\n",
        "\n",
        "\n",
        "t = 6.00002000e-03 = 1.39768066e+16 s = 4.42898275e+08 years\n",
        "\n",
        "Smallest Cell:\n",
        "\tWidth: 1.221e-04 Mpc\n",
        "\tWidth: 1.221e+02 pc\n",
        "\tWidth: 2.518e+07 AU\n",
        "\tWidth: 3.767e+20 cm\n"
       ]
      }
     ],
     "prompt_number": 3
    },
    {
     "cell_type": "markdown",
     "metadata": {},
     "source": [
      "yt can also tell you the fields it found on disk:"
     ]
    },
    {
     "cell_type": "code",
     "collapsed": false,
     "input": [
      "ds.field_list"
     ],
     "language": "python",
     "metadata": {},
     "outputs": [
      {
       "output_type": "pyout",
       "prompt_number": 4,
       "text": [
        "[('enzo', 'Dark_Matter_Density'),\n",
        " ('enzo', 'SFR_Density'),\n",
        " ('io', 'particle_position_z'),\n",
        " ('enzo', 'Density'),\n",
        " ('enzo', 'kphHI'),\n",
        " ('enzo', 'By'),\n",
        " ('io', 'particle_type'),\n",
        " ('enzo', 'HeIII_Density'),\n",
        " ('enzo', 'Metal_Density'),\n",
        " ('enzo', 'z-velocity'),\n",
        " ('io', 'dynamical_time'),\n",
        " ('enzo', 'HI_Density'),\n",
        " ('enzo', 'kphHeII'),\n",
        " ('enzo', 'kphHeI'),\n",
        " ('enzo', 'Electron_Density'),\n",
        " ('enzo', 'Bz'),\n",
        " ('io', 'particle_velocity_x'),\n",
        " ('io', 'particle_velocity_y'),\n",
        " ('enzo', 'HII_Density'),\n",
        " ('enzo', 'Forming_Stellar_Mass_Density'),\n",
        " ('io', 'particle_index'),\n",
        " ('enzo', 'Star_Particle_Density'),\n",
        " ('io', 'metallicity_fraction'),\n",
        " ('enzo', 'x-velocity'),\n",
        " ('enzo', 'MBHColour'),\n",
        " ('io', 'particle_position_x'),\n",
        " ('enzo', 'Temperature'),\n",
        " ('enzo', 'Cooling_Time'),\n",
        " ('enzo', 'HeII_Density'),\n",
        " ('io', 'particle_velocity_z'),\n",
        " ('enzo', 'Galaxy2Colour'),\n",
        " ('enzo', 'y-velocity'),\n",
        " ('io', 'creation_time'),\n",
        " ('enzo', 'TotalEnergy'),\n",
        " ('io', 'particle_position_y'),\n",
        " ('enzo', 'HeI_Density'),\n",
        " ('enzo', 'gammaHI'),\n",
        " ('enzo', 'Phi_pField'),\n",
        " ('enzo', 'Galaxy1Colour'),\n",
        " ('io', 'particle_mass'),\n",
        " ('enzo', 'Average_creation_time'),\n",
        " ('enzo', 'PhiField'),\n",
        " ('enzo', 'Bx'),\n",
        " ('all', 'particle_type'),\n",
        " ('all', 'metallicity_fraction'),\n",
        " ('all', 'particle_mass'),\n",
        " ('all', 'creation_time'),\n",
        " ('all', 'particle_position_z'),\n",
        " ('all', 'particle_position_x'),\n",
        " ('all', 'particle_position_y'),\n",
        " ('all', 'dynamical_time'),\n",
        " ('all', 'particle_index'),\n",
        " ('all', 'particle_velocity_z'),\n",
        " ('all', 'particle_velocity_x'),\n",
        " ('all', 'particle_velocity_y')]"
       ]
      }
     ],
     "prompt_number": 4
    },
    {
     "cell_type": "markdown",
     "metadata": {},
     "source": [
      "And, all of the fields it thinks it knows how to generate:"
     ]
    },
    {
     "cell_type": "code",
     "collapsed": false,
     "input": [
      "ds.derived_field_list"
     ],
     "language": "python",
     "metadata": {},
     "outputs": [
      {
       "output_type": "pyout",
       "prompt_number": 5,
       "text": [
        "[('all', 'age'),\n",
        " ('all', 'creation_time'),\n",
        " ('all', 'dynamical_time'),\n",
        " ('all', 'mesh_id'),\n",
        " ('all', 'metallicity_fraction'),\n",
        " ('all', 'particle_angular_momentum_magnitude'),\n",
        " ('all', 'particle_angular_momentum_x'),\n",
        " ('all', 'particle_angular_momentum_y'),\n",
        " ('all', 'particle_angular_momentum_z'),\n",
        " ('all', 'particle_index'),\n",
        " ('all', 'particle_mass'),\n",
        " ('all', 'particle_ones'),\n",
        " ('all', 'particle_phi_spherical'),\n",
        " ('all', 'particle_phi_velocity'),\n",
        " ('all', 'particle_position'),\n",
        " ('all', 'particle_position_x'),\n",
        " ('all', 'particle_position_y'),\n",
        " ('all', 'particle_position_z'),\n",
        " ('all', 'particle_radial_velocity'),\n",
        " ('all', 'particle_radius'),\n",
        " ('all', 'particle_radius_spherical'),\n",
        " ('all', 'particle_specific_angular_momentum'),\n",
        " ('all', 'particle_specific_angular_momentum_magnitude'),\n",
        " ('all', 'particle_specific_angular_momentum_x'),\n",
        " ('all', 'particle_specific_angular_momentum_y'),\n",
        " ('all', 'particle_specific_angular_momentum_z'),\n",
        " ('all', 'particle_theta_spherical'),\n",
        " ('all', 'particle_theta_velocity'),\n",
        " ('all', 'particle_type'),\n",
        " ('all', 'particle_velocity'),\n",
        " ('all', 'particle_velocity_magnitude'),\n",
        " ('all', 'particle_velocity_x'),\n",
        " ('all', 'particle_velocity_y'),\n",
        " ('all', 'particle_velocity_z'),\n",
        " ('deposit', 'all_cic'),\n",
        " ('deposit', 'all_count'),\n",
        " ('deposit', 'all_density'),\n",
        " ('deposit', 'all_mass'),\n",
        " ('deposit', 'io_cic'),\n",
        " ('deposit', 'io_count'),\n",
        " ('deposit', 'io_density'),\n",
        " ('deposit', 'io_mass'),\n",
        " ('enzo', 'Average_creation_time'),\n",
        " ('enzo', 'Bx'),\n",
        " ('enzo', 'By'),\n",
        " ('enzo', 'Bz'),\n",
        " ('enzo', 'Cooling_Time'),\n",
        " ('enzo', 'Dark_Matter_Density'),\n",
        " ('enzo', 'Density'),\n",
        " ('enzo', 'Electron_Density'),\n",
        " ('enzo', 'Forming_Stellar_Mass_Density'),\n",
        " ('enzo', 'Galaxy1Colour'),\n",
        " ('enzo', 'Galaxy2Colour'),\n",
        " ('enzo', 'HII_Density'),\n",
        " ('enzo', 'HI_Density'),\n",
        " ('enzo', 'HeIII_Density'),\n",
        " ('enzo', 'HeII_Density'),\n",
        " ('enzo', 'HeI_Density'),\n",
        " ('enzo', 'MBHColour'),\n",
        " ('enzo', 'Metal_Density'),\n",
        " ('enzo', 'PhiField'),\n",
        " ('enzo', 'Phi_pField'),\n",
        " ('enzo', 'SFR_Density'),\n",
        " ('enzo', 'Star_Particle_Density'),\n",
        " ('enzo', 'Temperature'),\n",
        " ('enzo', 'TotalEnergy'),\n",
        " ('enzo', 'gammaHI'),\n",
        " ('enzo', 'kphHI'),\n",
        " ('enzo', 'kphHeI'),\n",
        " ('enzo', 'kphHeII'),\n",
        " ('enzo', 'x-velocity'),\n",
        " ('enzo', 'y-velocity'),\n",
        " ('enzo', 'z-velocity'),\n",
        " ('gas', 'El_density'),\n",
        " ('gas', 'El_fraction'),\n",
        " ('gas', 'El_mass'),\n",
        " ('gas', 'El_number_density'),\n",
        " ('gas', 'H_density'),\n",
        " ('gas', 'H_fraction'),\n",
        " ('gas', 'H_mass'),\n",
        " ('gas', 'H_number_density'),\n",
        " ('gas', 'H_p1_density'),\n",
        " ('gas', 'H_p1_fraction'),\n",
        " ('gas', 'H_p1_mass'),\n",
        " ('gas', 'H_p1_number_density'),\n",
        " ('gas', 'He_density'),\n",
        " ('gas', 'He_fraction'),\n",
        " ('gas', 'He_mass'),\n",
        " ('gas', 'He_number_density'),\n",
        " ('gas', 'He_p1_density'),\n",
        " ('gas', 'He_p1_fraction'),\n",
        " ('gas', 'He_p1_mass'),\n",
        " ('gas', 'He_p1_number_density'),\n",
        " ('gas', 'He_p2_density'),\n",
        " ('gas', 'He_p2_fraction'),\n",
        " ('gas', 'He_p2_mass'),\n",
        " ('gas', 'He_p2_number_density'),\n",
        " ('gas', 'angular_momentum_magnitude'),\n",
        " ('gas', 'angular_momentum_x'),\n",
        " ('gas', 'angular_momentum_y'),\n",
        " ('gas', 'angular_momentum_z'),\n",
        " ('gas', 'averaged_density'),\n",
        " ('gas', 'baroclinic_vorticity_magnitude'),\n",
        " ('gas', 'baroclinic_vorticity_x'),\n",
        " ('gas', 'baroclinic_vorticity_y'),\n",
        " ('gas', 'baroclinic_vorticity_z'),\n",
        " ('gas', 'cell_mass'),\n",
        " ('gas', 'chandra_emissivity'),\n",
        " ('gas', 'cooling_time'),\n",
        " ('gas', 'courant_time_step'),\n",
        " ('gas', 'cutting_plane_velocity_x'),\n",
        " ('gas', 'cutting_plane_velocity_y'),\n",
        " ('gas', 'cutting_plane_velocity_z'),\n",
        " ('gas', 'cylindrical_radial_velocity'),\n",
        " ('gas', 'cylindrical_radial_velocity_absolute'),\n",
        " ('gas', 'cylindrical_tangential_velocity'),\n",
        " ('gas', 'cylindrical_tangential_velocity_absolute'),\n",
        " ('gas', 'dark_matter_density'),\n",
        " ('gas', 'density'),\n",
        " ('gas', 'density_gradient_magnitude'),\n",
        " ('gas', 'density_gradient_x'),\n",
        " ('gas', 'density_gradient_y'),\n",
        " ('gas', 'density_gradient_z'),\n",
        " ('gas', 'dynamical_time'),\n",
        " ('gas', 'entropy'),\n",
        " ('gas', 'jeans_mass'),\n",
        " ('gas', 'kT'),\n",
        " ('gas', 'kinetic_energy'),\n",
        " ('gas', 'mach_number'),\n",
        " ('gas', 'magnetic_energy'),\n",
        " ('gas', 'magnetic_field_poloidal'),\n",
        " ('gas', 'magnetic_field_strength'),\n",
        " ('gas', 'magnetic_field_toroidal'),\n",
        " ('gas', 'magnetic_field_x'),\n",
        " ('gas', 'magnetic_field_y'),\n",
        " ('gas', 'magnetic_field_z'),\n",
        " ('gas', 'magnetic_pressure'),\n",
        " ('gas', 'matter_density'),\n",
        " ('gas', 'matter_mass'),\n",
        " ('gas', 'mean_molecular_weight'),\n",
        " ('gas', 'metal_density'),\n",
        " ('gas', 'metal_mass'),\n",
        " ('gas', 'metallicity'),\n",
        " ('gas', 'number_density'),\n",
        " ('gas', 'plasma_beta'),\n",
        " ('gas', 'pressure'),\n",
        " ('gas', 'pressure_gradient_magnitude'),\n",
        " ('gas', 'pressure_gradient_x'),\n",
        " ('gas', 'pressure_gradient_y'),\n",
        " ('gas', 'pressure_gradient_z'),\n",
        " ('gas', 'radial_mach_number'),\n",
        " ('gas', 'radial_velocity'),\n",
        " ('gas', 'radial_velocity_absolute'),\n",
        " ('gas', 'shear'),\n",
        " ('gas', 'shear_criterion'),\n",
        " ('gas', 'shear_mach'),\n",
        " ('gas', 'sound_speed'),\n",
        " ('gas', 'specific_angular_momentum_magnitude'),\n",
        " ('gas', 'specific_angular_momentum_x'),\n",
        " ('gas', 'specific_angular_momentum_y'),\n",
        " ('gas', 'specific_angular_momentum_z'),\n",
        " ('gas', 'sz_kinetic'),\n",
        " ('gas', 'szy'),\n",
        " ('gas', 'tangential_over_velocity_magnitude'),\n",
        " ('gas', 'tangential_velocity'),\n",
        " ('gas', 'temperature'),\n",
        " ('gas', 'thermal_energy'),\n",
        " ('gas', 'velocity_divergence'),\n",
        " ('gas', 'velocity_divergence_absolute'),\n",
        " ('gas', 'velocity_magnitude'),\n",
        " ('gas', 'velocity_x'),\n",
        " ('gas', 'velocity_y'),\n",
        " ('gas', 'velocity_z'),\n",
        " ('gas', 'vorticity_growth_magnitude'),\n",
        " ('gas', 'vorticity_growth_magnitude_absolute'),\n",
        " ('gas', 'vorticity_growth_timescale'),\n",
        " ('gas', 'vorticity_growth_x'),\n",
        " ('gas', 'vorticity_growth_y'),\n",
        " ('gas', 'vorticity_growth_z'),\n",
        " ('gas', 'vorticity_magnitude'),\n",
        " ('gas', 'vorticity_squared'),\n",
        " ('gas', 'vorticity_stretching_magnitude'),\n",
        " ('gas', 'vorticity_stretching_x'),\n",
        " ('gas', 'vorticity_stretching_y'),\n",
        " ('gas', 'vorticity_stretching_z'),\n",
        " ('gas', 'vorticity_x'),\n",
        " ('gas', 'vorticity_y'),\n",
        " ('gas', 'vorticity_z'),\n",
        " ('gas', 'xray_emissivity'),\n",
        " ('index', 'cell_volume'),\n",
        " ('index', 'cylindrical_r'),\n",
        " ('index', 'cylindrical_theta'),\n",
        " ('index', 'cylindrical_z'),\n",
        " ('index', 'disk_angle'),\n",
        " ('index', 'dx'),\n",
        " ('index', 'dy'),\n",
        " ('index', 'dz'),\n",
        " ('index', 'grid_indices'),\n",
        " ('index', 'grid_level'),\n",
        " ('index', 'height'),\n",
        " ('index', 'ones'),\n",
        " ('index', 'ones_over_dx'),\n",
        " ('index', 'radius'),\n",
        " ('index', 'spherical_phi'),\n",
        " ('index', 'spherical_r'),\n",
        " ('index', 'spherical_theta'),\n",
        " ('index', 'x'),\n",
        " ('index', 'y'),\n",
        " ('index', 'z'),\n",
        " ('index', 'zeros'),\n",
        " ('io', 'age'),\n",
        " ('io', 'creation_time'),\n",
        " ('io', 'dynamical_time'),\n",
        " ('io', 'mesh_id'),\n",
        " ('io', 'metallicity_fraction'),\n",
        " ('io', 'particle_angular_momentum_magnitude'),\n",
        " ('io', 'particle_angular_momentum_x'),\n",
        " ('io', 'particle_angular_momentum_y'),\n",
        " ('io', 'particle_angular_momentum_z'),\n",
        " ('io', 'particle_index'),\n",
        " ('io', 'particle_mass'),\n",
        " ('io', 'particle_ones'),\n",
        " ('io', 'particle_phi_spherical'),\n",
        " ('io', 'particle_phi_velocity'),\n",
        " ('io', 'particle_position'),\n",
        " ('io', 'particle_position_x'),\n",
        " ('io', 'particle_position_y'),\n",
        " ('io', 'particle_position_z'),\n",
        " ('io', 'particle_radial_velocity'),\n",
        " ('io', 'particle_radius'),\n",
        " ('io', 'particle_radius_spherical'),\n",
        " ('io', 'particle_specific_angular_momentum'),\n",
        " ('io', 'particle_specific_angular_momentum_magnitude'),\n",
        " ('io', 'particle_specific_angular_momentum_x'),\n",
        " ('io', 'particle_specific_angular_momentum_y'),\n",
        " ('io', 'particle_specific_angular_momentum_z'),\n",
        " ('io', 'particle_theta_spherical'),\n",
        " ('io', 'particle_theta_velocity'),\n",
        " ('io', 'particle_type'),\n",
        " ('io', 'particle_velocity'),\n",
        " ('io', 'particle_velocity_magnitude'),\n",
        " ('io', 'particle_velocity_x'),\n",
        " ('io', 'particle_velocity_y'),\n",
        " ('io', 'particle_velocity_z')]"
       ]
      }
     ],
     "prompt_number": 5
    },
    {
     "cell_type": "markdown",
     "metadata": {},
     "source": [
      "yt can also transparently generate fields.  However, we encourage you to examine exactly what yt is doing when it generates those fields.  To see, you can ask for the source of a given field."
     ]
    },
    {
     "cell_type": "code",
     "collapsed": false,
     "input": [
      "print ds.field_info[\"gas\", \"vorticity_x\"].get_source()"
     ],
     "language": "python",
     "metadata": {},
     "outputs": [
      {
       "output_type": "stream",
       "stream": "stdout",
       "text": [
        "    def _vorticity_x(field, data):\n",
        "        f  = (data[ftype, \"velocity_z\"][sl_center,sl_right,sl_center] -\n",
        "              data[ftype, \"velocity_z\"][sl_center,sl_left,sl_center]) \\\n",
        "              / (div_fac*just_one(data[\"index\", \"dy\"]).in_cgs())\n",
        "        f -= (data[ftype, \"velocity_y\"][sl_center,sl_center,sl_right] -\n",
        "              data[ftype, \"velocity_y\"][sl_center,sl_center,sl_left]) \\\n",
        "              / (div_fac*just_one(data[\"index\", \"dz\"].in_cgs()))\n",
        "        new_field = data.ds.arr(np.zeros_like(data[ftype, \"velocity_z\"],\n",
        "                                              dtype=np.float64),\n",
        "                                f.units)\n",
        "        new_field[sl_center, sl_center, sl_center] = f\n",
        "        return new_field\n",
        "\n"
       ]
      }
     ],
     "prompt_number": 6
    },
    {
     "cell_type": "markdown",
     "metadata": {},
     "source": [
      "yt stores information about the domain of the simulation:"
     ]
    },
    {
     "cell_type": "code",
     "collapsed": false,
     "input": [
      "print ds.domain_width"
     ],
     "language": "python",
     "metadata": {},
     "outputs": [
      {
       "output_type": "stream",
       "stream": "stdout",
       "text": [
        "[ 1.  1.  1.] code_length\n"
       ]
      }
     ],
     "prompt_number": 7
    },
    {
     "cell_type": "markdown",
     "metadata": {},
     "source": [
      "yt can also convert this into various units:"
     ]
    },
    {
     "cell_type": "code",
     "collapsed": false,
     "input": [
      "print ds.domain_width.in_units(\"kpc\")\n",
      "print ds.domain_width.in_units(\"au\")\n",
      "print ds.domain_width.in_units(\"mile\")"
     ],
     "language": "python",
     "metadata": {},
     "outputs": [
      {
       "output_type": "stream",
       "stream": "stdout",
       "text": [
        "[ 1000.10448889  1000.10448889  1000.10448889] kpc\n",
        "[  2.06286359e+11   2.06286359e+11   2.06286359e+11] au\n",
        "[  1.91755627e+19   1.91755627e+19   1.91755627e+19] mile\n"
       ]
      }
     ],
     "prompt_number": 8
    },
    {
     "cell_type": "markdown",
     "metadata": {},
     "source": [
      "# Mesh Structure\n",
      "\n",
      "If you're using a simulation type that has grids (for instance, here we're using an Enzo simulation) you can examine the structure of the mesh.  For the most part, you probably won't have to use this unless you're debugging a simulation or examining in detail what is going on."
     ]
    },
    {
     "cell_type": "code",
     "collapsed": false,
     "input": [
      "print ds.index.grid_left_edge"
     ],
     "language": "python",
     "metadata": {},
     "outputs": [
      {
       "output_type": "stream",
       "stream": "stdout",
       "text": [
        "[[ 0.          0.          0.        ]\n",
        " [ 0.25        0.21875     0.25      ]\n",
        " [ 0.5         0.21875     0.25      ]\n",
        " [ 0.21875     0.5         0.25      ]\n",
        " [ 0.5         0.5         0.25      ]\n",
        " [ 0.25        0.25        0.5       ]\n",
        " [ 0.5         0.25        0.5       ]\n",
        " [ 0.25        0.5         0.5       ]\n",
        " [ 0.5         0.5         0.5       ]\n",
        " [ 0.5         0.5         0.5       ]\n",
        " [ 0.5         0.5         0.5       ]\n",
        " [ 0.5         0.5         0.5       ]\n",
        " [ 0.5         0.5         0.5       ]\n",
        " [ 0.50976562  0.5         0.5       ]\n",
        " [ 0.50976562  0.5         0.50585938]\n",
        " [ 0.50976562  0.53515625  0.50585938]\n",
        " [ 0.52148438  0.53515625  0.50585938]\n",
        " [ 0.52148438  0.54101562  0.52539062]\n",
        " [ 0.52734375  0.53515625  0.50585938]\n",
        " [ 0.50976562  0.5         0.50585938]\n",
        " [ 0.50976562  0.5         0.5       ]\n",
        " [ 0.5         0.5         0.5       ]\n",
        " [ 0.5         0.5         0.5       ]\n",
        " [ 0.5         0.5         0.50585938]\n",
        " [ 0.50634766  0.50244141  0.50585938]\n",
        " [ 0.50488281  0.5         0.50585938]\n",
        " [ 0.5         0.50390625  0.50585938]\n",
        " [ 0.5         0.5         0.5       ]\n",
        " [ 0.28125     0.5         0.5       ]\n",
        " [ 0.3359375   0.5         0.5       ]\n",
        " [ 0.40625     0.5         0.5       ]\n",
        " [ 0.4453125   0.5         0.5       ]\n",
        " [ 0.44921875  0.52539062  0.50390625]\n",
        " [ 0.46289062  0.52734375  0.5       ]\n",
        " [ 0.48242188  0.52539062  0.5       ]\n",
        " [ 0.46875     0.54492188  0.5078125 ]\n",
        " [ 0.45703125  0.52539062  0.51953125]\n",
        " [ 0.47851562  0.52539062  0.5       ]\n",
        " [ 0.46484375  0.52539062  0.5       ]\n",
        " [ 0.45898438  0.52539062  0.50585938]\n",
        " [ 0.48242188  0.52539062  0.52539062]\n",
        " [ 0.47070312  0.52539062  0.51953125]\n",
        " [ 0.47851562  0.52539062  0.52539062]\n",
        " [ 0.47851562  0.5         0.5       ]\n",
        " [ 0.49023438  0.5         0.5       ]\n",
        " [ 0.49658203  0.51025391  0.50048828]\n",
        " [ 0.49462891  0.5         0.5       ]\n",
        " [ 0.49584961  0.5         0.5       ]\n",
        " [ 0.49584961  0.50048828  0.5       ]\n",
        " [ 0.49584961  0.5012207   0.5       ]\n",
        " [ 0.49804688  0.5012207   0.5       ]\n",
        " [ 0.49633789  0.50341797  0.5       ]\n",
        " [ 0.49658203  0.5012207   0.50073242]\n",
        " [ 0.49658203  0.50244141  0.50073242]\n",
        " [ 0.49780273  0.5012207   0.50146484]\n",
        " [ 0.5         0.28125     0.5       ]\n",
        " [ 0.5         0.3359375   0.5       ]\n",
        " [ 0.5         0.40625     0.5       ]\n",
        " [ 0.50195312  0.44140625  0.50585938]\n",
        " [ 0.5         0.45117188  0.5       ]\n",
        " [ 0.515625    0.44335938  0.5       ]\n",
        " [ 0.53125     0.46289062  0.5       ]\n",
        " [ 0.53125     0.49023438  0.5       ]\n",
        " [ 0.53125     0.4609375   0.515625  ]\n",
        " [ 0.53125     0.47265625  0.515625  ]\n",
        " [ 0.53125     0.48046875  0.515625  ]\n",
        " [ 0.53125     0.48632812  0.53125   ]\n",
        " [ 0.54101562  0.484375    0.515625  ]\n",
        " [ 0.53710938  0.48046875  0.53320312]\n",
        " [ 0.5         0.47460938  0.50195312]\n",
        " [ 0.5         0.47949219  0.5       ]\n",
        " [ 0.50292969  0.4765625   0.50195312]\n",
        " [ 0.50195312  0.48779297  0.50048828]\n",
        " [ 0.5         0.48974609  0.5       ]\n",
        " [ 0.5         0.49609375  0.50976562]\n",
        " [ 0.5         0.49414062  0.5       ]\n",
        " [ 0.5         0.49707031  0.5       ]\n",
        " [ 0.28125     0.28125     0.5       ]\n",
        " [ 0.3359375   0.3359375   0.5       ]\n",
        " [ 0.46484375  0.37890625  0.50390625]\n",
        " [ 0.40625     0.40625     0.5       ]\n",
        " [ 0.49609375  0.44335938  0.50585938]\n",
        " [ 0.44921875  0.453125    0.5       ]\n",
        " [ 0.4765625   0.47753906  0.5       ]\n",
        " [ 0.49755859  0.48925781  0.50097656]\n",
        " [ 0.49023438  0.49121094  0.5       ]\n",
        " [ 0.49609375  0.48828125  0.50341797]\n",
        " [ 0.49633789  0.49389648  0.5       ]\n",
        " [ 0.49487305  0.49926758  0.5       ]\n",
        " [ 0.49731445  0.49609375  0.5       ]\n",
        " [ 0.49755859  0.49609375  0.5       ]\n",
        " [ 0.49487305  0.49707031  0.5       ]\n",
        " [ 0.49682617  0.49682617  0.5       ]\n",
        " [ 0.5         0.5         0.28125   ]\n",
        " [ 0.5         0.5         0.3359375 ]\n",
        " [ 0.5         0.5         0.40234375]\n",
        " [ 0.5         0.5         0.453125  ]\n",
        " [ 0.5         0.5         0.4765625 ]\n",
        " [ 0.5         0.5         0.49121094]\n",
        " [ 0.5         0.5         0.49682617]\n",
        " [ 0.50170898  0.5         0.49804688]\n",
        " [ 0.50170898  0.50219727  0.49853516]\n",
        " [ 0.50219727  0.50219727  0.4987793 ]\n",
        " [ 0.50170898  0.50219727  0.49951172]\n",
        " [ 0.50292969  0.50219727  0.49951172]\n",
        " [ 0.265625    0.5         0.28125   ]\n",
        " [ 0.3359375   0.5         0.328125  ]\n",
        " [ 0.40234375  0.5         0.40625   ]\n",
        " [ 0.45117188  0.5         0.45117188]\n",
        " [ 0.49804688  0.5         0.47265625]\n",
        " [ 0.47460938  0.5         0.4765625 ]\n",
        " [ 0.49316406  0.50195312  0.48730469]\n",
        " [ 0.48925781  0.50244141  0.49658203]\n",
        " [ 0.49072266  0.5         0.49072266]\n",
        " [ 0.49926758  0.50048828  0.49560547]\n",
        " [ 0.49487305  0.5         0.49926758]\n",
        " [ 0.49707031  0.5         0.49707031]\n",
        " [ 0.49609375  0.50219727  0.49951172]\n",
        " [ 0.49658203  0.5         0.49853516]\n",
        " [ 0.5         0.265625    0.28125   ]\n",
        " [ 0.5         0.3203125   0.328125  ]\n",
        " [ 0.5         0.3984375   0.40625   ]\n",
        " [ 0.546875    0.41796875  0.4453125 ]\n",
        " [ 0.546875    0.453125    0.41796875]\n",
        " [ 0.546875    0.4375      0.4375    ]\n",
        " [ 0.546875    0.4921875   0.41796875]\n",
        " [ 0.546875    0.48046875  0.41796875]\n",
        " [ 0.55859375  0.46875     0.43359375]\n",
        " [ 0.5         0.4609375   0.4453125 ]\n",
        " [ 0.5         0.44921875  0.47460938]\n",
        " [ 0.51367188  0.47265625  0.46289062]\n",
        " [ 0.51367188  0.47460938  0.45703125]\n",
        " [ 0.52734375  0.47070312  0.46679688]\n",
        " [ 0.51367188  0.46679688  0.46875   ]\n",
        " [ 0.5         0.47460938  0.47753906]\n",
        " [ 0.5         0.49023438  0.49072266]\n",
        " [ 0.50488281  0.49560547  0.48974609]\n",
        " [ 0.50488281  0.49169922  0.49365234]\n",
        " [ 0.50488281  0.49511719  0.49365234]\n",
        " [ 0.50488281  0.49511719  0.49462891]\n",
        " [ 0.50488281  0.49707031  0.49267578]\n",
        " [ 0.50488281  0.49853516  0.49316406]\n",
        " [ 0.5         0.49560547  0.49707031]\n",
        " [ 0.50317383  0.4987793   0.49902344]\n",
        " [ 0.265625    0.28125     0.28125   ]\n",
        " [ 0.328125    0.3359375   0.328125  ]\n",
        " [ 0.4140625   0.40625     0.40625   ]\n",
        " [ 0.49414062  0.43945312  0.48632812]\n",
        " [ 0.45703125  0.4765625   0.46875   ]\n",
        " [ 0.48632812  0.44921875  0.453125  ]\n",
        " [ 0.45117188  0.4921875   0.453125  ]\n",
        " [ 0.44921875  0.453125    0.47851562]\n",
        " [ 0.46289062  0.484375    0.45507812]\n",
        " [ 0.484375    0.46484375  0.45703125]\n",
        " [ 0.47265625  0.47851562  0.46484375]\n",
        " [ 0.47265625  0.45898438  0.47070312]\n",
        " [ 0.4765625   0.47265625  0.46289062]\n",
        " [ 0.4765625   0.47070312  0.46679688]\n",
        " [ 0.47363281  0.48535156  0.49414062]\n",
        " [ 0.47363281  0.48339844  0.49707031]\n",
        " [ 0.48242188  0.48535156  0.48632812]\n",
        " [ 0.48144531  0.48339844  0.49121094]\n",
        " [ 0.47753906  0.4921875   0.48632812]\n",
        " [ 0.48632812  0.47558594  0.47753906]\n",
        " [ 0.49511719  0.49707031  0.48632812]\n",
        " [ 0.49755859  0.49560547  0.48828125]\n",
        " [ 0.49169922  0.48974609  0.49414062]\n",
        " [ 0.49023438  0.49169922  0.49072266]\n",
        " [ 0.49560547  0.49853516  0.49951172]\n",
        " [ 0.49707031  0.49707031  0.49853516]\n",
        " [ 0.49658203  0.49755859  0.49707031]\n",
        " [ 0.49902344  0.49560547  0.49755859]\n",
        " [ 0.49804688  0.49609375  0.49853516]] code_length\n"
       ]
      }
     ],
     "prompt_number": 9
    },
    {
     "cell_type": "markdown",
     "metadata": {},
     "source": [
      "But, you may have to access information about individual grid objects!  Each grid object mediates accessing data from the disk and has a number of attributes that tell you about it.  The index (`ds.index` here) has an attribute `grids` which is all of the grid objects."
     ]
    },
    {
     "cell_type": "code",
     "collapsed": false,
     "input": [
      "print ds.index.grids[1]"
     ],
     "language": "python",
     "metadata": {},
     "outputs": [
      {
       "output_type": "stream",
       "stream": "stdout",
       "text": [
        "EnzoGrid_0002\n"
       ]
      }
     ],
     "prompt_number": 10
    },
    {
     "cell_type": "code",
     "collapsed": false,
     "input": [
      "g = ds.index.grids[1]\n",
      "print g"
     ],
     "language": "python",
     "metadata": {},
     "outputs": [
      {
       "output_type": "stream",
       "stream": "stdout",
       "text": [
        "EnzoGrid_0002\n"
       ]
      }
     ],
     "prompt_number": 11
    },
    {
     "cell_type": "markdown",
     "metadata": {},
     "source": [
      "Grids have dimensions, extents, level, and even a list of Child grids."
     ]
    },
    {
     "cell_type": "code",
     "collapsed": false,
     "input": [
      "g.ActiveDimensions"
     ],
     "language": "python",
     "metadata": {},
     "outputs": [
      {
       "output_type": "pyout",
       "prompt_number": 12,
       "text": [
        "array([16, 18, 16], dtype=int32)"
       ]
      }
     ],
     "prompt_number": 12
    },
    {
     "cell_type": "code",
     "collapsed": false,
     "input": [
      "g.LeftEdge, g.RightEdge"
     ],
     "language": "python",
     "metadata": {},
     "outputs": [
      {
       "output_type": "pyout",
       "prompt_number": 13,
       "text": [
        "(YTArray([ 0.25   ,  0.21875,  0.25   ]) code_length,\n",
        " YTArray([ 0.5,  0.5,  0.5]) code_length)"
       ]
      }
     ],
     "prompt_number": 13
    },
    {
     "cell_type": "code",
     "collapsed": false,
     "input": [
      "g.Level"
     ],
     "language": "python",
     "metadata": {},
     "outputs": [
      {
       "output_type": "pyout",
       "prompt_number": 14,
       "text": [
        "1"
       ]
      }
     ],
     "prompt_number": 14
    },
    {
     "cell_type": "code",
     "collapsed": false,
     "input": [
      "g.Children"
     ],
     "language": "python",
     "metadata": {},
     "outputs": [
      {
       "output_type": "pyout",
       "prompt_number": 15,
       "text": [
        "[EnzoGrid_0145]"
       ]
      }
     ],
     "prompt_number": 15
    },
    {
     "cell_type": "markdown",
     "metadata": {},
     "source": [
      "## Advanced Grid Inspection\n",
      "\n",
      "If we want to examine grids only at a given level, we can!  Not only that, but we can load data and take a look at various fields.\n",
      "\n",
      "*This section can be skipped!*"
     ]
    },
    {
     "cell_type": "code",
     "collapsed": false,
     "input": [
      "gs = ds.index.select_grids(ds.index.max_level)"
     ],
     "language": "python",
     "metadata": {},
     "outputs": [],
     "prompt_number": 16
    },
    {
     "cell_type": "code",
     "collapsed": false,
     "input": [
      "g2 = gs[0]\n",
      "print g2\n",
      "print g2.Parent\n",
      "print g2.get_global_startindex()"
     ],
     "language": "python",
     "metadata": {},
     "outputs": [
      {
       "output_type": "stream",
       "stream": "stdout",
       "text": [
        "EnzoGrid_0028\n",
        "EnzoGrid_0023\n",
        "[4096 4096 4096]\n"
       ]
      }
     ],
     "prompt_number": 17
    },
    {
     "cell_type": "code",
     "collapsed": false,
     "input": [
      "print g2[\"density\"][:,:,0]"
     ],
     "language": "python",
     "metadata": {},
     "outputs": [
      {
       "output_type": "stream",
       "stream": "stdout",
       "text": [
        "[[  1.01363690e-25   3.45646382e-25   6.41925898e-25 ...,   5.96696509e-25\n",
        "    5.10014698e-25   4.21704727e-25]\n",
        " [  1.76641648e-25   4.39171143e-25   7.10127952e-25 ...,   4.83368357e-25\n",
        "    2.33865852e-25   1.54410574e-25]\n",
        " [  2.03982852e-25   5.07130376e-25   8.93401738e-25 ...,   1.58189599e-25\n",
        "    6.55056907e-26   4.26830665e-26]\n",
        " ..., \n",
        " [  4.70574906e-25   2.85658342e-25   1.60217995e-25 ...,   9.89565377e-27\n",
        "    1.04609558e-26   1.10698239e-26]\n",
        " [  2.17375380e-25   1.26144714e-25   8.58855917e-26 ...,   9.51497754e-27\n",
        "    9.96838536e-27   1.05070102e-26]\n",
        " [  9.00905100e-26   6.88664354e-26   6.34225309e-26 ...,   9.17543455e-27\n",
        "    9.52855304e-27   1.00110840e-26]] g/cm**3\n"
       ]
      }
     ],
     "prompt_number": 18
    },
    {
     "cell_type": "code",
     "collapsed": false,
     "input": [
      "print (g2.Parent.child_mask == 0).sum() * 8\n",
      "print g2.ActiveDimensions.prod()"
     ],
     "language": "python",
     "metadata": {},
     "outputs": [
      {
       "output_type": "stream",
       "stream": "stdout",
       "text": [
        "33592\n",
        "33592\n"
       ]
      }
     ],
     "prompt_number": 19
    },
    {
     "cell_type": "code",
     "collapsed": false,
     "input": [
      "for f in ds.field_list:\n",
      "    fv = g[f]\n",
      "    if fv.size == 0: continue\n",
      "    print f, fv.min(), fv.max()"
     ],
     "language": "python",
     "metadata": {},
     "outputs": [
      {
       "output_type": "stream",
       "stream": "stdout",
       "text": [
        "('enzo', 'Dark_Matter_Density') 0.0 code_mass/code_length**3 1.08606159687 code_mass/code_length**3\n",
        "('enzo', 'SFR_Density') 1.00000001335e-10 dimensionless 1.00000001335e-10 dimensionless\n",
        "('io', 'particle_position_z') 0.262642536623 code_length 0.495103839026 code_length\n",
        "('enzo', 'Density') 0.156463041902 code_mass/code_length**3 1204.91357422 code_mass/code_length**3\n",
        "('enzo', 'kphHI') 0.0 dimensionless 0.0 dimensionless\n",
        "('enzo', 'By') 0.0 code_magnetic 0.0 code_magnetic\n",
        "('io', 'particle_type') 1.0 dimensionless 1.0 dimensionless\n",
        "('enzo', 'HeIII_Density') 0.036707662046 code_mass/code_length**3 29.4213027954 code_mass/code_length**3\n",
        "('enzo', 'Metal_Density') 1.16512828754e-05 code_mass/code_length**3 1.55436336994 code_mass/code_length**3\n",
        "('enzo', 'z-velocity')"
       ]
      },
      {
       "output_type": "stream",
       "stream": "stdout",
       "text": [
        " -1.04746866226 code_velocity 9.70476531982 code_velocity\n",
        "('io', 'dynamical_time') 0.0 code_time 0.0 code_time\n",
        "('enzo', 'HI_Density') 1.21849467405e-07 code_mass/code_length**3 178.852462769 code_mass/code_length**3\n",
        "('enzo', 'kphHeII') 0.0 dimensionless 0.0 dimensionless\n",
        "('enzo', 'kphHeI') 0.0 dimensionless 0.0 dimensionless\n",
        "('enzo', 'Electron_Density') 0.137466937304 code_mass/code_length**3 799.525878906 code_mass/code_length**3\n",
        "('enzo', 'Bz') 0.0127916038036 code_magnetic 0.0128318462521 code_magnetic\n",
        "('io', 'particle_velocity_x') -3771602.32827 cm/s 6406800.04744 cm/s\n",
        "('io', 'particle_velocity_y') -9214187.76783 cm/s 1247333.9407 cm/s\n",
        "('enzo', 'HII_Density') 0.118902929127 code_mass/code_length**3 735.700683594 code_mass/code_length**3\n",
        "('enzo', 'Forming_Stellar_Mass_Density') 1.00000001335e-10 dimensionless 1.00000001335e-10 dimensionless\n",
        "('io', 'particle_index') 495510.0 dimensionless 999626.0 dimensionless\n",
        "('enzo', 'Star_Particle_Density') 1.00000001335e-10 dimensionless 1.00000001335e-10 dimensionless\n",
        "('io', 'metallicity_fraction')"
       ]
      },
      {
       "output_type": "stream",
       "stream": "stdout",
       "text": [
        " 0.0 code_metallicity 0.0 code_metallicity\n",
        "('enzo', 'x-velocity') -0.868919789791 code_velocity 10.2385663986 code_velocity\n",
        "('enzo', 'MBHColour') 2.3229605739e-11 dimensionless 6.06533767655e-10 dimensionless\n",
        "('io', 'particle_position_x') 0.41541787346 code_length 0.497860468025 code_length\n",
        "('enzo', 'Temperature') 5423.74902344 K 13363.3720703 K\n",
        "('enzo', 'Cooling_Time') 3.92001623163e+13 s 1.19623192733e+19 s\n",
        "('enzo', 'HeII_Density') 0.000840668857563 code_mass/code_length**3 196.457885742 code_mass/code_length**3\n",
        "('io', 'particle_velocity_z') -9018941.98647 cm/s -186059.661756 cm/s\n",
        "('enzo', 'Galaxy2Colour') 0.156463041902 dimensionless 1724.44177246 dimensionless\n",
        "('enzo', 'y-velocity') -1.54692029953 code_velocity 7.30749988556 code_velocity\n",
        "('io', 'creation_time') 0.0 code_time 0.0 code_time\n",
        "('enzo', 'TotalEnergy') 0.649765729904 code_velocity**2 1.43175756931 code_velocity**2\n",
        "('io', 'particle_position_y') 0.262784210986 code_length 0.49402845958 code_length\n",
        "('enzo', 'HeI_Density') 3.82205067595e-09 code_mass/code_length**3 62.9270782471 code_mass/code_length**3\n",
        "('enzo', 'gammaHI')"
       ]
      },
      {
       "output_type": "stream",
       "stream": "stdout",
       "text": [
        " 0.0 dimensionless 0.0 dimensionless\n",
        "('enzo', 'Phi_pField') 0.0 dimensionless 0.0 dimensionless\n",
        "('enzo', 'Galaxy1Colour') 0.156463041902 dimensionless 1724.44177246 dimensionless\n",
        "('io', 'particle_mass') 4.25554145453e+38 g 4.25554145453e+38 g\n",
        "('enzo', 'Average_creation_time') 0.0 dimensionless 0.0 dimensionless\n",
        "('enzo', 'PhiField') 0.0 dimensionless 0.0 dimensionless\n",
        "('enzo', 'Bx') 0.0 code_magnetic 0.0 code_magnetic\n",
        "('all', 'particle_type') 1.0 dimensionless 1.0 dimensionless\n",
        "('all', 'metallicity_fraction') 0.0 dimensionless 0.0 dimensionless\n",
        "('all', 'particle_mass') 4.25554145453e+38 g 4.25554145453e+38 g\n",
        "('all', 'creation_time') 0.0 s 0.0 s\n",
        "('all', 'particle_position_z') 0.262642536623 code_length 0.495103839026 code_length\n",
        "('all', 'particle_position_x')"
       ]
      },
      {
       "output_type": "stream",
       "stream": "stdout",
       "text": [
        " 0.41541787346 code_length 0.497860468025 code_length\n",
        "('all', 'particle_position_y') 0.262784210986 code_length 0.49402845958 code_length\n",
        "('all', 'dynamical_time') 0.0 s 0.0 s\n",
        "('all', 'particle_index') 495510.0 dimensionless 999626.0 dimensionless\n",
        "('all', 'particle_velocity_z') -9018941.98647 cm/s -186059.661756 cm/s\n",
        "('all', 'particle_velocity_x') -3771602.32827 cm/s 6406800.04744 cm/s\n",
        "('all', 'particle_velocity_y') -9214187.76783 cm/s 1247333.9407 cm/s\n"
       ]
      }
     ],
     "prompt_number": 20
    },
    {
     "cell_type": "markdown",
     "metadata": {},
     "source": [
      "# Examining Data in Regions\n",
      "\n",
      "yt provides data object selectors.  In subsequent notebooks we'll examine these in more detail, but we can select a sphere of data and perform a number of operations on it.  yt makes it easy to operate on fluid fields in an object in *bulk*, but you can also examine individual field values.\n",
      "\n",
      "This creates a sphere selector positioned at the most dense point in the simulation that has a radius of 10 kpc."
     ]
    },
    {
     "cell_type": "code",
     "collapsed": false,
     "input": [
      "sp = ds.sphere(\"max\", (10, 'kpc'))"
     ],
     "language": "python",
     "metadata": {},
     "outputs": [],
     "prompt_number": 21
    },
    {
     "cell_type": "code",
     "collapsed": false,
     "input": [
      "print sp"
     ],
     "language": "python",
     "metadata": {},
     "outputs": [
      {
       "output_type": "stream",
       "stream": "stdout",
       "text": [
        "YTSphere (galaxy0030): center=[ 0.50408936  0.49981689  0.50018311] code_length, radius=10.0 kpc\n"
       ]
      }
     ],
     "prompt_number": 22
    },
    {
     "cell_type": "markdown",
     "metadata": {},
     "source": [
      "We can calculate a bunch of bulk quantities.  Here's that list, but there's a list in the docs, too!"
     ]
    },
    {
     "cell_type": "code",
     "collapsed": false,
     "input": [
      "print sp.quantities.keys()"
     ],
     "language": "python",
     "metadata": {},
     "outputs": [
      {
       "output_type": "stream",
       "stream": "stdout",
       "text": [
        "['SpinParameter', 'MinLocation', 'WeightedVariance', 'TotalMass', 'AngularMomentumVector', 'WeightedAverageQuantity', 'TotalQuantity', 'CenterOfMass', 'BulkVelocity', 'Extrema', 'MaxLocation']\n"
       ]
      }
     ],
     "prompt_number": 23
    },
    {
     "cell_type": "markdown",
     "metadata": {},
     "source": [
      "Let's look at the total mass.  This is how you call a given quantity.  yt calls these \"Derived Quantities\".  We'll talk about a few in a later notebook."
     ]
    },
    {
     "cell_type": "code",
     "collapsed": false,
     "input": [
      "print sp.quantities.total_mass()"
     ],
     "language": "python",
     "metadata": {},
     "outputs": [
      {
       "output_type": "stream",
       "stream": "stdout",
       "text": [
        "[3.27209034824e+42 g, 8.58102338351e+43 g]\n"
       ]
      }
     ],
     "prompt_number": 24
    }
   ],
   "metadata": {}
  }
 ]
}