{
 "cells": [
  {
   "cell_type": "markdown",
   "metadata": {},
   "source": [
    "# pyoctree example - Shadow casting of 3D model onto plane\n",
    "---\n",
    "This notebook loads a stl file of a 3D model and performs shadow casting by creating a grid of rays and detecting if an intersection between these rays and the object occurs.  \n",
    "\n",
    "Requirements for this notebook:\n",
    "* pyoctree\n",
    "* vtk >= 6.2.0\n",
    "* skimage >= 0.11.3"
   ]
  },
  {
   "cell_type": "code",
   "execution_count": 1,
   "metadata": {
    "collapsed": false
   },
   "outputs": [],
   "source": [
    "# Imports\n",
    "%matplotlib inline\n",
    "import matplotlib.pyplot as plt\n",
    "import numpy as np\n",
    "import sys, vtk\n",
    "import skimage\n",
    "import skimage.feature\n",
    "sys.path.append('../')\n",
    "from pyoctree import pyoctree as ot"
   ]
  },
  {
   "cell_type": "code",
   "execution_count": 2,
   "metadata": {
    "collapsed": false
   },
   "outputs": [
    {
     "name": "stdout",
     "output_type": "stream",
     "text": [
      "6.2.0\n",
      "0.11.3\n"
     ]
    }
   ],
   "source": [
    "print vtk.vtkVersion.GetVTKVersion()\n",
    "print skimage.__version__"
   ]
  },
  {
   "cell_type": "code",
   "execution_count": 3,
   "metadata": {
    "collapsed": false
   },
   "outputs": [
    {
     "name": "stdout",
     "output_type": "stream",
     "text": [
      "Number of points    = 38214\n",
      "Number of triangles = 76428\n"
     ]
    }
   ],
   "source": [
    "# Read in stl file\n",
    "reader = vtk.vtkSTLReader()\n",
    "reader.SetFileName(\"knot.stl\")\n",
    "reader.MergingOn()\n",
    "reader.Update()\n",
    "stl = reader.GetOutput()\n",
    "print \"Number of points    = %d\" % stl.GetNumberOfPoints()\n",
    "print \"Number of triangles = %d\" % stl.GetNumberOfCells()"
   ]
  },
  {
   "cell_type": "code",
   "execution_count": 4,
   "metadata": {
    "collapsed": false
   },
   "outputs": [],
   "source": [
    "# Define size of projected image (in pixels)\n",
    "width, height = 200, 200"
   ]
  },
  {
   "cell_type": "code",
   "execution_count": 5,
   "metadata": {
    "collapsed": false
   },
   "outputs": [],
   "source": [
    "# Extract polygon info from stl\n",
    "\n",
    "# 1. Get array of point coordinates\n",
    "numPoints   = stl.GetNumberOfPoints()\n",
    "pointCoords = np.zeros((numPoints,3),dtype=float)\n",
    "for i in xrange(numPoints):\n",
    "    pointCoords[i,:] = stl.GetPoint(i)\n",
    "    \n",
    "# 2. Get polygon connectivity\n",
    "numPolys     = stl.GetNumberOfCells()\n",
    "connectivity = np.zeros((numPolys,3),dtype=np.int32)\n",
    "for i in xrange(numPolys):\n",
    "    atri = stl.GetCell(i)\n",
    "    ids = atri.GetPointIds()\n",
    "    for j in range(3):\n",
    "        connectivity[i,j] = ids.GetId(j)"
   ]
  },
  {
   "cell_type": "code",
   "execution_count": 6,
   "metadata": {
    "collapsed": false
   },
   "outputs": [],
   "source": [
    "# Create octree structure containing stl poly mesh\n",
    "tree = ot.PyOctree(pointCoords,connectivity)"
   ]
  },
  {
   "cell_type": "code",
   "execution_count": 7,
   "metadata": {
    "collapsed": false
   },
   "outputs": [
    {
     "name": "stdout",
     "output_type": "stream",
     "text": [
      "Size of Octree               = 3.115mm\n",
      "Number of Octnodes in Octree = 2497\n",
      "Number of polys in Octree    = 76428\n"
     ]
    }
   ],
   "source": [
    "# Print out basic Octree data\n",
    "print \"Size of Octree               = %.3fmm\" % tree.root.size\n",
    "print \"Number of Octnodes in Octree = %d\" % tree.getNumberOfNodes()\n",
    "print \"Number of polys in Octree    = %d\" % tree.numPolys"
   ]
  },
  {
   "cell_type": "code",
   "execution_count": 8,
   "metadata": {
    "collapsed": false
   },
   "outputs": [],
   "source": [
    "# Create rays\n",
    "xs,xe,ys,ye,zs,ze = stl.GetBounds()\n",
    "perc = 0.05\n",
    "xr  = xe-xs\n",
    "yr  = ye-ys\n",
    "zr  = ze-zs\n",
    "xs -= xr*perc\n",
    "xe += xr*perc\n",
    "ys -= yr*perc\n",
    "ye += yr*perc\n",
    "zs -= zr*perc\n",
    "ze += zr*perc \n",
    "xr = np.linspace(xs,xe,width)\n",
    "yr = np.linspace(ys,ye,height)\n",
    "rayPointList = []\n",
    "for x in xr:\n",
    "    for y in yr:\n",
    "        rayPointList.append([[x,y,zs],[x,y,ze]])\n",
    "rayPointList = np.array(rayPointList,dtype=np.float32)"
   ]
  },
  {
   "cell_type": "code",
   "execution_count": 9,
   "metadata": {
    "collapsed": false
   },
   "outputs": [],
   "source": [
    "# Perform intersections\n",
    "proj  = tree.rayIntersections(rayPointList)\n",
    "proj  = proj.reshape((width,height))\n",
    "proj  = proj.astype(float)\n",
    "proj  = proj[::-1,:]"
   ]
  },
  {
   "cell_type": "code",
   "execution_count": 10,
   "metadata": {
    "collapsed": false
   },
   "outputs": [
    {
     "name": "stdout",
     "output_type": "stream",
     "text": [
      "1 loops, best of 1: 4.2 s per loop\n"
     ]
    }
   ],
   "source": [
    "# Time projection\n",
    "%timeit -n1 -r1 proj = tree.rayIntersections(rayPointList)"
   ]
  },
  {
   "cell_type": "code",
   "execution_count": 11,
   "metadata": {
    "collapsed": false
   },
   "outputs": [],
   "source": [
    "# Perform edge detection\n",
    "edges = skimage.feature.canny(proj,sigma=1.0)"
   ]
  },
  {
   "cell_type": "code",
   "execution_count": 12,
   "metadata": {
    "collapsed": false
   },
   "outputs": [
    {
     "data": {
      "image/png": "[encoded data removed]",
      "text/plain": [
       "<matplotlib.figure.Figure at 0x12d92cf8>"
      ]
     },
     "metadata": {},
     "output_type": "display_data"
    }
   ],
   "source": [
    "# Plot figures\n",
    "fig, (ax1, ax2) = plt.subplots(nrows=1, ncols=2, figsize=(10, 4));\n",
    "\n",
    "ax1.imshow(proj, cmap=plt.cm.gray)\n",
    "ax1.axis('off')\n",
    "ax1.set_title('Projected object', fontsize=16)\n",
    "\n",
    "ax2.imshow(edges, cmap=plt.cm.gray)\n",
    "ax2.axis('off')\n",
    "ax2.set_title('Edge detection (Canny filter)', fontsize=16);\n",
    "\n",
    "fig.subplots_adjust(wspace=0.1, hspace=0.02, top=0.95, bottom=0.02, left=0.02, right=0.98)"
   ]
  },
  {
   "cell_type": "code",
   "execution_count": 13,
   "metadata": {
    "collapsed": false
   },
   "outputs": [],
   "source": [
    "# Create a vtk representation of Octree\n",
    "tree.getOctreeRep()"
   ]
  }
 ],
 "metadata": {
  "kernelspec": {
   "display_name": "Python 2",
   "language": "python",
   "name": "python2"
  },
  "language_info": {
   "codemirror_mode": {
    "name": "ipython",
    "version": 2
   },
   "file_extension": ".py",
   "mimetype": "text/x-python",
   "name": "python",
   "nbconvert_exporter": "python",
   "pygments_lexer": "ipython2",
   "version": "2.7.6"
  }
 },
 "nbformat": 4,
 "nbformat_minor": 0
}
