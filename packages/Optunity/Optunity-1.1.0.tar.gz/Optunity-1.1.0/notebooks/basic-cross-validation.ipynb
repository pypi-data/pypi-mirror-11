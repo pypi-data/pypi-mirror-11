{
 "metadata": {
  "signature": "sha256:223ae37a33b4ae82ad9f8bb916c54fcee34333d150c823d36022ce374fc09659"
 },
 "nbformat": 3,
 "nbformat_minor": 0,
 "worksheets": [
  {
   "cells": [
    {
     "cell_type": "heading",
     "level": 1,
     "metadata": {},
     "source": [
      "Basic: cross-validation"
     ]
    },
    {
     "cell_type": "markdown",
     "metadata": {},
     "source": [
      "This notebook explores the main elements of Optunity's cross-validation facilities, including:\n",
      "\n",
      "* standard cross-validation\n",
      "* using strata and clusters while constructing folds\n",
      "* using different aggregators\n",
      "\n",
      "We recommend perusing the <a href=\"http://docs.optunity.net/user/cross_validation.html\">related documentation</a> for more details.\n",
      "\n",
      "Nested cross-validation is available as a separate notebook."
     ]
    },
    {
     "cell_type": "code",
     "collapsed": false,
     "input": [
      "import optunity\n",
      "import optunity.cross_validation"
     ],
     "language": "python",
     "metadata": {},
     "outputs": [],
     "prompt_number": 1
    },
    {
     "cell_type": "markdown",
     "metadata": {},
     "source": [
      "We start by generating some toy data containing 6 instances which we will partition into folds."
     ]
    },
    {
     "cell_type": "code",
     "collapsed": false,
     "input": [
      "data = list(range(6))\n",
      "labels = [True] * 3 + [False] * 3"
     ],
     "language": "python",
     "metadata": {},
     "outputs": [],
     "prompt_number": 28
    },
    {
     "cell_type": "heading",
     "level": 2,
     "metadata": {},
     "source": [
      "Standard cross-validation <a id=standard></a>"
     ]
    },
    {
     "cell_type": "markdown",
     "metadata": {},
     "source": [
      "Each function to be decorated with cross-validation functionality must accept the following arguments:\n",
      "- x_train: training data\n",
      "- x_test: test data\n",
      "- y_train: training labels (required only when y is specified in the cross-validation decorator)\n",
      "- y_test: test labels (required only when y is specified in the cross-validation decorator)\n",
      "\n",
      "These arguments will be set implicitly by the cross-validation decorator to match the right folds. Any remaining arguments to the decorated function remain as free parameters that must be set later on."
     ]
    },
    {
     "cell_type": "markdown",
     "metadata": {},
     "source": [
      "Lets start with the basics and look at Optunity's cross-validation in action. We use an objective function that simply prints out the train and test data in every split to see what's going on."
     ]
    },
    {
     "cell_type": "code",
     "collapsed": false,
     "input": [
      "def f(x_train, y_train, x_test, y_test):\n",
      "    print(\"\")\n",
      "    print(\"train data:\\t\" + str(x_train) + \"\\t train labels:\\t\" + str(y_train))\n",
      "    print(\"test data:\\t\" + str(x_test) + \"\\t test labels:\\t\" + str(y_test))\n",
      "    return 0.0"
     ],
     "language": "python",
     "metadata": {},
     "outputs": [],
     "prompt_number": 17
    },
    {
     "cell_type": "markdown",
     "metadata": {},
     "source": [
      "We start with 2 folds, which leads to equally sized train and test partitions."
     ]
    },
    {
     "cell_type": "code",
     "collapsed": false,
     "input": [
      "f_2folds = optunity.cross_validated(x=data, y=labels, num_folds=2)(f)\n",
      "print(\"using 2 folds\")\n",
      "f_2folds()"
     ],
     "language": "python",
     "metadata": {},
     "outputs": [
      {
       "output_type": "stream",
       "stream": "stdout",
       "text": [
        "using 2 folds\n",
        "\n",
        "train data:\t[5, 4, 3]\t train labels:\t[False, False, False]\n",
        "test data:\t[1, 2, 0]\t test labels:\t[True, True, True]\n",
        "\n",
        "train data:\t[1, 2, 0]\t train labels:\t[True, True, True]\n",
        "test data:\t[5, 4, 3]\t test labels:\t[False, False, False]\n"
       ]
      },
      {
       "metadata": {},
       "output_type": "pyout",
       "prompt_number": 22,
       "text": [
        "0.0"
       ]
      }
     ],
     "prompt_number": 22
    },
    {
     "cell_type": "code",
     "collapsed": false,
     "input": [
      "# f_2folds as defined above would typically be written using decorator syntax as follows\n",
      "# we don't do that in these examples so we can reuse the toy objective function\n",
      "\n",
      "@optunity.cross_validated(x=data, y=labels, num_folds=2)\n",
      "def f_2folds(x_train, y_train, x_test, y_test):\n",
      "    print(\"\")\n",
      "    print(\"train data:\\t\" + str(x_train) + \"\\t train labels:\\t\" + str(y_train))\n",
      "    print(\"test data:\\t\" + str(x_test) + \"\\t test labels:\\t\" + str(y_test))\n",
      "    return 0.0"
     ],
     "language": "python",
     "metadata": {},
     "outputs": [],
     "prompt_number": 73
    },
    {
     "cell_type": "markdown",
     "metadata": {},
     "source": [
      "If we use three folds instead of 2, we get 3 iterations in which the training set is twice the size of the test set."
     ]
    },
    {
     "cell_type": "code",
     "collapsed": false,
     "input": [
      "f_3folds = optunity.cross_validated(x=data, y=labels, num_folds=3)(f)\n",
      "print(\"using 3 folds\")\n",
      "f_3folds()"
     ],
     "language": "python",
     "metadata": {},
     "outputs": [
      {
       "output_type": "stream",
       "stream": "stdout",
       "text": [
        "using 3 folds\n",
        "\n",
        "train data:\t[5, 3, 0, 2]\t train labels:\t[False, False, True, True]\n",
        "test data:\t[4, 1]\t test labels:\t[False, True]\n",
        "\n",
        "train data:\t[4, 1, 0, 2]\t train labels:\t[False, True, True, True]\n",
        "test data:\t[5, 3]\t test labels:\t[False, False]\n",
        "\n",
        "train data:\t[4, 1, 5, 3]\t train labels:\t[False, True, False, False]\n",
        "test data:\t[0, 2]\t test labels:\t[True, True]\n"
       ]
      },
      {
       "metadata": {},
       "output_type": "pyout",
       "prompt_number": 74,
       "text": [
        "0.0"
       ]
      }
     ],
     "prompt_number": 74
    },
    {
     "cell_type": "markdown",
     "metadata": {},
     "source": [
      "If we do two iterations of 3-fold cross-validation (denoted by 2x3 fold), two sets of folds are generated and evaluated."
     ]
    },
    {
     "cell_type": "code",
     "collapsed": false,
     "input": [
      "f_2x3folds = optunity.cross_validated(x=data, y=labels, num_folds=3, num_iter=2)(f)\n",
      "print(\"using 2x3 folds\")\n",
      "f_2x3folds()"
     ],
     "language": "python",
     "metadata": {},
     "outputs": [
      {
       "output_type": "stream",
       "stream": "stdout",
       "text": [
        "using 2x3 folds\n",
        "\n",
        "train data:\t[0, 4, 2, 3]\t train labels:\t[True, False, True, False]\n",
        "test data:\t[5, 1]\t test labels:\t[False, True]\n",
        "\n",
        "train data:\t[5, 1, 2, 3]\t train labels:\t[False, True, True, False]\n",
        "test data:\t[0, 4]\t test labels:\t[True, False]\n",
        "\n",
        "train data:\t[5, 1, 0, 4]\t train labels:\t[False, True, True, False]\n",
        "test data:\t[2, 3]\t test labels:\t[True, False]\n",
        "\n",
        "train data:\t[3, 4, 2, 0]\t train labels:\t[False, False, True, True]\n",
        "test data:\t[1, 5]\t test labels:\t[True, False]\n",
        "\n",
        "train data:\t[1, 5, 2, 0]\t train labels:\t[True, False, True, True]\n",
        "test data:\t[3, 4]\t test labels:\t[False, False]\n",
        "\n",
        "train data:\t[1, 5, 3, 4]\t train labels:\t[True, False, False, False]\n",
        "test data:\t[2, 0]\t test labels:\t[True, True]\n"
       ]
      },
      {
       "metadata": {},
       "output_type": "pyout",
       "prompt_number": 46,
       "text": [
        "0.0"
       ]
      }
     ],
     "prompt_number": 46
    },
    {
     "cell_type": "heading",
     "level": 2,
     "metadata": {},
     "source": [
      "Using strata and clusters<a id=strata-clusters></a>"
     ]
    },
    {
     "cell_type": "markdown",
     "metadata": {},
     "source": [
      "Strata are defined as sets of instances that should be spread out across folds as much as possible (e.g. stratify patients by age). Clusters are sets of instances that must be put in a single fold (e.g. cluster measurements of the same patient).\n",
      "\n",
      "Optunity allows you to specify strata and/or clusters that must be accounted for while construct cross-validation folds. Not all instances have to belong to a stratum or clusters."
     ]
    },
    {
     "cell_type": "heading",
     "level": 4,
     "metadata": {},
     "source": [
      "Strata"
     ]
    },
    {
     "cell_type": "markdown",
     "metadata": {},
     "source": [
      "We start by illustrating strata. Strata are specified as a list of lists of instances indices. Each list defines one stratum. We will reuse the toy data and objective function specified above. We will create 2 strata with 2 instances each. These instances will be spread across folds. We create two strata: $\\{0, 1\\}$ and $\\{2, 3\\}$."
     ]
    },
    {
     "cell_type": "code",
     "collapsed": false,
     "input": [
      "strata = [[0, 1], [2, 3]]\n",
      "f_stratified = optunity.cross_validated(x=data, y=labels, strata=strata, num_folds=3)(f)\n",
      "f_stratified()"
     ],
     "language": "python",
     "metadata": {},
     "outputs": [
      {
       "output_type": "stream",
       "stream": "stdout",
       "text": [
        "\n",
        "train data:\t[4, 5, 1, 2]\t train labels:\t[False, False, True, True]\n",
        "test data:\t[0, 3]\t test labels:\t[True, False]\n",
        "\n",
        "train data:\t[0, 3, 1, 2]\t train labels:\t[True, False, True, True]\n",
        "test data:\t[4, 5]\t test labels:\t[False, False]\n",
        "\n",
        "train data:\t[0, 3, 4, 5]\t train labels:\t[True, False, False, False]\n",
        "test data:\t[1, 2]\t test labels:\t[True, True]\n"
       ]
      },
      {
       "metadata": {},
       "output_type": "pyout",
       "prompt_number": 44,
       "text": [
        "0.0"
       ]
      }
     ],
     "prompt_number": 44
    },
    {
     "cell_type": "heading",
     "level": 4,
     "metadata": {},
     "source": [
      "Clusters"
     ]
    },
    {
     "cell_type": "markdown",
     "metadata": {},
     "source": [
      "Clusters work similarly, except that now instances within a cluster are guaranteed to be placed within a single fold. The way to specify clusters is identical to strata. We create two clusters: $\\{0, 1\\}$ and $\\{2, 3\\}$. These pairs will always occur in a single fold."
     ]
    },
    {
     "cell_type": "code",
     "collapsed": false,
     "input": [
      "clusters = [[0, 1], [2, 3]]\n",
      "f_clustered = optunity.cross_validated(x=data, y=labels, clusters=clusters, num_folds=3)(f)\n",
      "f_clustered()"
     ],
     "language": "python",
     "metadata": {},
     "outputs": [
      {
       "output_type": "stream",
       "stream": "stdout",
       "text": [
        "\n",
        "train data:\t[2, 3, 4, 5]\t train labels:\t[True, False, False, False]\n",
        "test data:\t[0, 1]\t test labels:\t[True, True]\n",
        "\n",
        "train data:\t[0, 1, 4, 5]\t train labels:\t[True, True, False, False]\n",
        "test data:\t[2, 3]\t test labels:\t[True, False]\n",
        "\n",
        "train data:\t[0, 1, 2, 3]\t train labels:\t[True, True, True, False]\n",
        "test data:\t[4, 5]\t test labels:\t[False, False]\n"
       ]
      },
      {
       "metadata": {},
       "output_type": "pyout",
       "prompt_number": 42,
       "text": [
        "0.0"
       ]
      }
     ],
     "prompt_number": 42
    },
    {
     "cell_type": "heading",
     "level": 4,
     "metadata": {},
     "source": [
      "Strata and clusters"
     ]
    },
    {
     "cell_type": "markdown",
     "metadata": {},
     "source": [
      "Strata and clusters can be used together. Lets say we have the following configuration:\n",
      "    \n",
      "- 1 stratum: $\\{0, 1, 2\\}$\n",
      "- 2 clusters: $\\{0, 3\\}$, $\\{4, 5\\}$\n",
      "\n",
      "In this particular example, instances 1 and 2 will inevitably end up in a single fold, even though they are part of one stratum. This happens because the total data set has size 6, and 4 instances are already in clusters."
     ]
    },
    {
     "cell_type": "code",
     "collapsed": false,
     "input": [
      "strata = [[0, 1, 2]]\n",
      "clusters = [[0, 3], [4, 5]]\n",
      "f_strata_clustered = optunity.cross_validated(x=data, y=labels, clusters=clusters, strata=strata, num_folds=3)(f)\n",
      "f_strata_clustered()"
     ],
     "language": "python",
     "metadata": {},
     "outputs": [
      {
       "output_type": "stream",
       "stream": "stdout",
       "text": [
        "\n",
        "train data:\t[0, 3, 4, 5]\t train labels:\t[True, False, False, False]\n",
        "test data:\t[1, 2]\t test labels:\t[True, True]\n",
        "\n",
        "train data:\t[1, 2, 4, 5]\t train labels:\t[True, True, False, False]\n",
        "test data:\t[0, 3]\t test labels:\t[True, False]\n",
        "\n",
        "train data:\t[1, 2, 0, 3]\t train labels:\t[True, True, True, False]\n",
        "test data:\t[4, 5]\t test labels:\t[False, False]\n"
       ]
      },
      {
       "metadata": {},
       "output_type": "pyout",
       "prompt_number": 67,
       "text": [
        "0.0"
       ]
      }
     ],
     "prompt_number": 67
    },
    {
     "cell_type": "heading",
     "level": 2,
     "metadata": {},
     "source": [
      "Aggregators <a id=aggregators></a>"
     ]
    },
    {
     "cell_type": "markdown",
     "metadata": {},
     "source": [
      "Aggregators are used to combine the scores per fold into a single result. The default approach used in cross-validation is to take the mean of all scores. In some cases, we might be interested in worst-case or best-case performance, the spread, ...\n",
      "\n",
      "Opunity allows passing a custom callable to be used as aggregator. "
     ]
    },
    {
     "cell_type": "markdown",
     "metadata": {},
     "source": [
      "The default aggregation in Optunity is to compute the mean across folds."
     ]
    },
    {
     "cell_type": "code",
     "collapsed": false,
     "input": [
      "@optunity.cross_validated(x=data, num_folds=3)\n",
      "def f(x_train, x_test):\n",
      "    result = x_test[0]\n",
      "    print(result)\n",
      "    return result\n",
      "\n",
      "f(1)"
     ],
     "language": "python",
     "metadata": {},
     "outputs": [
      {
       "output_type": "stream",
       "stream": "stdout",
       "text": [
        "5\n",
        "4\n",
        "3\n"
       ]
      },
      {
       "metadata": {},
       "output_type": "pyout",
       "prompt_number": 101,
       "text": [
        "4.0"
       ]
      }
     ],
     "prompt_number": 101
    },
    {
     "cell_type": "markdown",
     "metadata": {},
     "source": [
      "This can be replaced by any function, e.g. min or max."
     ]
    },
    {
     "cell_type": "code",
     "collapsed": false,
     "input": [
      "@optunity.cross_validated(x=data, num_folds=3, aggregator=max)\n",
      "def fmax(x_train, x_test):\n",
      "    result = x_test[0]\n",
      "    print(result)\n",
      "    return result\n",
      "\n",
      "fmax(1)"
     ],
     "language": "python",
     "metadata": {},
     "outputs": [
      {
       "output_type": "stream",
       "stream": "stdout",
       "text": [
        "4\n",
        "2\n",
        "3\n"
       ]
      },
      {
       "metadata": {},
       "output_type": "pyout",
       "prompt_number": 102,
       "text": [
        "4"
       ]
      }
     ],
     "prompt_number": 102
    },
    {
     "cell_type": "code",
     "collapsed": false,
     "input": [
      "@optunity.cross_validated(x=data, num_folds=3, aggregator=min)\n",
      "def fmin(x_train, x_test):\n",
      "    result = x_test[0]\n",
      "    print(result)\n",
      "    return result\n",
      "\n",
      "fmin(1)"
     ],
     "language": "python",
     "metadata": {},
     "outputs": [
      {
       "output_type": "stream",
       "stream": "stdout",
       "text": [
        "0\n",
        "1\n",
        "5\n"
       ]
      },
      {
       "metadata": {},
       "output_type": "pyout",
       "prompt_number": 103,
       "text": [
        "0"
       ]
      }
     ],
     "prompt_number": 103
    },
    {
     "cell_type": "heading",
     "level": 4,
     "metadata": {},
     "source": [
      "Retaining intermediate results"
     ]
    },
    {
     "cell_type": "markdown",
     "metadata": {},
     "source": [
      "Often, it may be useful to retain all intermediate results, not just the final aggregated data. This is made possible via `optunity.cross_validation.mean_and_list` aggregator. This aggregator computes the mean for internal use in cross-validation, but also returns a list of lists containing the full evaluation results."
     ]
    },
    {
     "cell_type": "code",
     "collapsed": false,
     "input": [
      "@optunity.cross_validated(x=data, num_folds=3,\n",
      "                          aggregator=optunity.cross_validation.mean_and_list)\n",
      "def f_full(x_train, x_test, coeff):\n",
      "    return x_test[0] * coeff\n",
      "\n",
      "# evaluate f\n",
      "mean_score, all_scores = f_full(1.0)\n",
      "print(mean_score)\n",
      "print(all_scores)\n"
     ],
     "language": "python",
     "metadata": {},
     "outputs": [
      {
       "output_type": "stream",
       "stream": "stdout",
       "text": [
        "3.0\n",
        "[3.0, 2.0, 4.0]\n"
       ]
      }
     ],
     "prompt_number": 106
    },
    {
     "cell_type": "markdown",
     "metadata": {},
     "source": [
      "Note that a cross-validation based on the `mean_and_list` aggregator essentially returns a tuple of results. If the result is iterable, all solvers in Optunity use the first element as the objective function value. You can let the cross-validation procedure return other useful statistics too, which you can access from the solver trace."
     ]
    },
    {
     "cell_type": "code",
     "collapsed": false,
     "input": [
      "opt_coeff, info, _ = optunity.minimize(f_full, coeff=[0, 1], num_evals=10)\n",
      "print(opt_coeff)\n",
      "print(\"call log\")\n",
      "for args, val in zip(info.call_log['args']['coeff'], info.call_log['values']):\n",
      "    print(str(args) + '\\t\\t' + str(val))"
     ],
     "language": "python",
     "metadata": {},
     "outputs": [
      {
       "output_type": "stream",
       "stream": "stdout",
       "text": [
        "{'coeff': 0.01123046875}\n",
        "call log\n",
        "0.76513671875\t\t(2.29541015625, [2.29541015625, 1.5302734375, 3.060546875])\n",
        "0.51513671875\t\t(1.54541015625, [1.54541015625, 1.0302734375, 2.060546875])\n",
        "0.01513671875\t\t(0.04541015625, [0.04541015625, 0.0302734375, 0.060546875])\n",
        "0.01123046875\t\t(0.03369140625, [0.03369140625, 0.0224609375, 0.044921875])\n",
        "0.51123046875\t\t(1.53369140625, [1.53369140625, 1.0224609375, 2.044921875])\n",
        "0.76123046875\t\t(2.28369140625, [2.28369140625, 1.5224609375, 3.044921875])\n",
        "0.26123046875\t\t(0.78369140625, [0.78369140625, 0.5224609375, 1.044921875])\n",
        "0.38623046875\t\t(1.15869140625, [1.15869140625, 0.7724609375, 1.544921875])\n",
        "0.88623046875\t\t(2.65869140625, [2.65869140625, 1.7724609375, 3.544921875])\n",
        "0.63623046875\t\t(1.90869140625, [1.90869140625, 1.2724609375, 2.544921875])\n"
       ]
      }
     ],
     "prompt_number": 107
    }
   ],
   "metadata": {}
  }
 ]
}