{
 "metadata": {
  "name": "",
  "signature": "sha256:b91e8ff6ea93248f1220806c5bc79448f892775d3da4b6343c62750207d3835b"
 },
 "nbformat": 3,
 "nbformat_minor": 0,
 "worksheets": []
}