{
 "metadata": {
  "name": "",
  "signature": "sha256:e4f6172b4b8969e24c9f17f01d221a8c728afe60ac3b560c265d1d0c7fc3f09e"
 },
 "nbformat": 3,
 "nbformat_minor": 0,
 "worksheets": []
}