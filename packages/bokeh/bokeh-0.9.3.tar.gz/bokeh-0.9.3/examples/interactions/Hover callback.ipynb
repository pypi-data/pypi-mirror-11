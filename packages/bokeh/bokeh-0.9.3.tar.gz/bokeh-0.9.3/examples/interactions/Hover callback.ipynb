{
 "cells": [
  {
   "cell_type": "code",
   "execution_count": null,
   "metadata": {
    "collapsed": false
   },
   "outputs": [],
   "source": [
    "from bokeh.sampledata.glucose import data\n",
    "(x, y) = (data.ix['2010-10-06'].index.to_series(), data.ix['2010-10-06']['glucose'])\n",
    "\n",
    "from bokeh.plotting import figure, output_notebook, show\n",
    "from bokeh.models import ColumnDataSource, Circle, HoverTool, CustomJS\n",
    "\n",
    "output_notebook()"
   ]
  },
  {
   "cell_type": "code",
   "execution_count": null,
   "metadata": {
    "collapsed": false,
    "scrolled": false
   },
   "outputs": [],
   "source": [
    "# Basic plot setup\n",
    "p = figure(\n",
    "    width=750, \n",
    "    height=300, \n",
    "    x_axis_type=\"datetime\", \n",
    "    outline_line_color=None, \n",
    "    tools=\"\", \n",
    "    toolbar_location=None, \n",
    "    title='Hover over points on line'\n",
    ")\n",
    "p.line(x, y, line_dash=\"4 4\", line_width=1, color='gray')\n",
    "\n",
    "p.xaxis[0].axis_line_color = None\n",
    "p.yaxis[0].axis_line_color = None\n",
    "p.xgrid[0].grid_line_color = None\n",
    "p.ygrid[0].grid_line_alpha =0.5\n",
    "p.xaxis[0].major_label_text_color = 'gray'\n",
    "p.xaxis[0].major_tick_line_color = 'gray'\n",
    "p.yaxis[0].major_label_text_color = 'gray'\n",
    "p.yaxis[0].minor_tick_line_color = None\n",
    "p.yaxis[0].major_tick_line_color = None\n",
    "\n",
    "# Add a circle, that is visible only when selected\n",
    "source = ColumnDataSource({'x': x, 'y': y})\n",
    "size = 20\n",
    "invisible_circle = Circle(x='x', y='y', fill_color='gray', fill_alpha=0.05, line_color=None, size=size)\n",
    "visible_circle = Circle(x='x', y='y', fill_color='firebrick', fill_alpha=0.5, line_color=None, size=size)\n",
    "circle = p.add_glyph(source, invisible_circle, selection_glyph=visible_circle, nonselection_glyph=invisible_circle)\n",
    "\n",
    "# Add a hover tool, that selects the circle\n",
    "code = \"source.set('selected', cb_data['index']);\"\n",
    "callback = CustomJS(args={'source': source}, code=code)\n",
    "p.add_tools(HoverTool(tooltips=None, callback=callback, renderers=[circle], mode='hline'))\n",
    "\n",
    "show(p)"
   ]
  },
  {
   "cell_type": "code",
   "execution_count": null,
   "metadata": {
    "collapsed": true
   },
   "outputs": [],
   "source": []
  }
 ],
 "metadata": {
  "kernelspec": {
   "display_name": "Python 3",
   "language": "python",
   "name": "python3"
  },
  "language_info": {
   "codemirror_mode": {
    "name": "ipython",
    "version": 3
   },
   "file_extension": ".py",
   "mimetype": "text/x-python",
   "name": "python",
   "nbconvert_exporter": "python",
   "pygments_lexer": "ipython3",
   "version": "3.4.3"
  }
 },
 "nbformat": 4,
 "nbformat_minor": 0
}
