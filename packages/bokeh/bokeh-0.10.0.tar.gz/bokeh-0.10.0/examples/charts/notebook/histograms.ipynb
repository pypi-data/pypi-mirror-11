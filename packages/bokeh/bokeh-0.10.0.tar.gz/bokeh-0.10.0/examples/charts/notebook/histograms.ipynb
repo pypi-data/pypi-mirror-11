{
 "cells": [
  {
   "cell_type": "code",
   "execution_count": null,
   "metadata": {
    "collapsed": false
   },
   "outputs": [],
   "source": [
    "from bokeh.charts import Histogram\n",
    "from bokeh.sampledata.autompg import autompg as df\n",
    "from bokeh.charts import defaults, vplot, hplot, show, output_notebook"
   ]
  },
  {
   "cell_type": "code",
   "execution_count": null,
   "metadata": {
    "collapsed": false
   },
   "outputs": [],
   "source": [
    "output_notebook()"
   ]
  },
  {
   "cell_type": "code",
   "execution_count": null,
   "metadata": {
    "collapsed": false
   },
   "outputs": [],
   "source": [
    "defaults.width = 450\n",
    "defaults.height = 350"
   ]
  },
  {
   "cell_type": "code",
   "execution_count": null,
   "metadata": {
    "collapsed": false
   },
   "outputs": [],
   "source": [
    "hist = Histogram(df['mpg'], title=\"df['mpg']\")\n",
    "hist2 = Histogram(df, 'displ', title=\"df, 'displ'\")\n",
    "hist3 = Histogram(df, values='hp', title=\"df, values='hp'\")\n",
    "\n",
    "hist4 = Histogram(df, values='hp', color='cyl',\n",
    "                  title=\"df, values='hp', color='cyl'\", legend='top_right')\n",
    "\n",
    "hist5 = Histogram(df, values='mpg', bins=50,\n",
    "                  title=\"df, values='mpg', bins=50\")"
   ]
  },
  {
   "cell_type": "code",
   "execution_count": null,
   "metadata": {
    "collapsed": false
   },
   "outputs": [],
   "source": [
    "show(\n",
    "    vplot(\n",
    "        hplot(hist, hist2, hist3),\n",
    "        hplot(hist4, hist5)\n",
    "    )\n",
    ")"
   ]
  },
  {
   "cell_type": "code",
   "execution_count": null,
   "metadata": {
    "collapsed": false
   },
   "outputs": [],
   "source": []
  }
 ],
 "metadata": {
  "kernelspec": {
   "display_name": "Python 3",
   "language": "python",
   "name": "python3"
  },
  "language_info": {
   "codemirror_mode": {
    "name": "ipython",
    "version": 3
   },
   "file_extension": ".py",
   "mimetype": "text/x-python",
   "name": "python",
   "nbconvert_exporter": "python",
   "pygments_lexer": "ipython3",
   "version": "3.4.3"
  }
 },
 "nbformat": 4,
 "nbformat_minor": 0
}
