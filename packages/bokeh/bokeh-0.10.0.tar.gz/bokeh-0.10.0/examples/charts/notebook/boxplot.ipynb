{
 "cells": [
  {
   "cell_type": "code",
   "execution_count": null,
   "metadata": {
    "collapsed": false
   },
   "outputs": [],
   "source": [
    "from bokeh.charts import BoxPlot, output_notebook, show\n",
    "from bokeh.sampledata.autompg import autompg as df\n",
    "from bokeh.charts import defaults, vplot, hplot"
   ]
  },
  {
   "cell_type": "code",
   "execution_count": null,
   "metadata": {
    "collapsed": false
   },
   "outputs": [],
   "source": [
    "output_notebook()"
   ]
  },
  {
   "cell_type": "code",
   "execution_count": null,
   "metadata": {
    "collapsed": false
   },
   "outputs": [],
   "source": [
    "defaults.width = 450\n",
    "defaults.height = 350"
   ]
  },
  {
   "cell_type": "code",
   "execution_count": null,
   "metadata": {
    "collapsed": false
   },
   "outputs": [],
   "source": [
    "box_plot = BoxPlot(df, label='cyl', values='mpg', title=\"label='cyl', values='mpg'\")\n",
    "\n",
    "box_plot2 = BoxPlot(df, label=['cyl', 'origin'], values='mpg', title=\"label=['cyl', 'origin'], values='mpg'\")\n",
    "\n",
    "box_plot3 = BoxPlot(df, label='cyl', values='mpg', agg='mean',\n",
    "                title=\"label='cyl' values='mpg' agg='mean'\")\n",
    "\n",
    "box_plot4 = BoxPlot(df, label='cyl', title=\"label='cyl' color='DimGray'\", color='dimgray')"
   ]
  },
  {
   "cell_type": "code",
   "execution_count": null,
   "metadata": {
    "collapsed": false
   },
   "outputs": [],
   "source": [
    "show(\n",
    "    vplot(\n",
    "        hplot(box_plot, box_plot2),\n",
    "        hplot(box_plot3, box_plot4)\n",
    "    )\n",
    ")"
   ]
  },
  {
   "cell_type": "code",
   "execution_count": null,
   "metadata": {
    "collapsed": true
   },
   "outputs": [],
   "source": []
  }
 ],
 "metadata": {
  "kernelspec": {
   "display_name": "Python 3",
   "language": "python",
   "name": "python3"
  },
  "language_info": {
   "codemirror_mode": {
    "name": "ipython",
    "version": 3
   },
   "file_extension": ".py",
   "mimetype": "text/x-python",
   "name": "python",
   "nbconvert_exporter": "python",
   "pygments_lexer": "ipython3",
   "version": "3.4.3"
  }
 },
 "nbformat": 4,
 "nbformat_minor": 0
}
