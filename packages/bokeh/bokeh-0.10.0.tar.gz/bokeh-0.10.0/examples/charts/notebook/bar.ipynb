{
 "cells": [
  {
   "cell_type": "code",
   "execution_count": null,
   "metadata": {
    "collapsed": false
   },
   "outputs": [],
   "source": [
    "from bokeh.charts import Bar, output_notebook, show, vplot, hplot, defaults\n",
    "from bokeh.sampledata.autompg import autompg as df"
   ]
  },
  {
   "cell_type": "code",
   "execution_count": null,
   "metadata": {
    "collapsed": false
   },
   "outputs": [],
   "source": [
    "output_notebook()"
   ]
  },
  {
   "cell_type": "code",
   "execution_count": null,
   "metadata": {
    "collapsed": false
   },
   "outputs": [],
   "source": [
    "df['neg_displ'] = 0 - df['displ']\n",
    "\n",
    "defaults.width = 350\n",
    "defaults.height = 250"
   ]
  },
  {
   "cell_type": "code",
   "execution_count": null,
   "metadata": {
    "collapsed": false
   },
   "outputs": [],
   "source": [
    "bar_plot = Bar(df, label='cyl', title=\"label='cyl'\")\n",
    "\n",
    "bar_plot2 = Bar(df, label='cyl', bar_width=0.4, title=\"label='cyl' bar_width=0.4\")\n",
    "\n",
    "bar_plot3 = Bar(df, label='cyl', values='mpg', agg='mean',\n",
    "                title=\"label='cyl' values='mpg' agg='mean'\")\n",
    "\n",
    "bar_plot4 = Bar(df, label='cyl', title=\"label='cyl' color='DimGray'\", color='dimgray')"
   ]
  },
  {
   "cell_type": "code",
   "execution_count": null,
   "metadata": {
    "collapsed": false
   },
   "outputs": [],
   "source": [
    "# multiple columns\n",
    "bar_plot5 = Bar(df, label=['cyl', 'origin'], values='mpg', agg='mean',\n",
    "                title=\"label=['cyl', 'origin'] values='mpg' agg='mean'\")\n",
    "\n",
    "bar_plot6 = Bar(df, label='origin', values='mpg', agg='mean', stack='cyl',\n",
    "                title=\"label='origin' values='mpg' agg='mean' stack='cyl'\", legend='top_right')\n",
    "\n",
    "bar_plot7 = Bar(df, label='cyl', values='displ', agg='mean', group='origin',\n",
    "                title=\"label='cyl' values='displ' agg='mean' group='origin'\", legend='top_right')"
   ]
  },
  {
   "cell_type": "code",
   "execution_count": null,
   "metadata": {
    "collapsed": false
   },
   "outputs": [],
   "source": [
    "show(\n",
    "    vplot(\n",
    "        hplot(bar_plot, bar_plot2, bar_plot3),\n",
    "        hplot(bar_plot4, bar_plot5, bar_plot6),\n",
    "        hplot(bar_plot7)\n",
    "    )\n",
    ")"
   ]
  },
  {
   "cell_type": "code",
   "execution_count": null,
   "metadata": {
    "collapsed": false
   },
   "outputs": [],
   "source": []
  }
 ],
 "metadata": {
  "kernelspec": {
   "display_name": "Python 3",
   "language": "python",
   "name": "python3"
  },
  "language_info": {
   "codemirror_mode": {
    "name": "ipython",
    "version": 3
   },
   "file_extension": ".py",
   "mimetype": "text/x-python",
   "name": "python",
   "nbconvert_exporter": "python",
   "pygments_lexer": "ipython3",
   "version": "3.4.3"
  }
 },
 "nbformat": 4,
 "nbformat_minor": 0
}
